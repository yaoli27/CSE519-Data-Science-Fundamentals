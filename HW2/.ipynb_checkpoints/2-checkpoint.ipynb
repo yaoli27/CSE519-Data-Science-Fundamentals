{
 "cells": [
  {
   "cell_type": "markdown",
   "metadata": {
    "colab_type": "text",
    "id": "T5p6wM0AU8uH"
   },
   "source": [
    "# Homework 2 - ​Predict Future Sales"
   ]
  },
  {
   "cell_type": "markdown",
   "metadata": {
    "colab_type": "text",
    "id": "1OJxzqtiU8uI"
   },
   "source": [
    "For all parts below, answer all parts as shown in the Google document for Homework 2. Be sure to include both code that justifies your answer as well as text to answer the questions. Show runtime results for each cell. We also ask that code be commented to make it easier to follow."
   ]
  },
  {
   "cell_type": "markdown",
   "metadata": {
    "colab_type": "text",
    "id": "XvGydxTVU8uJ"
   },
   "source": [
    "## Part 1 - Data Cleaning and Merging"
   ]
  },
  {
   "cell_type": "code",
   "execution_count": null,
   "metadata": {
    "colab": {},
    "colab_type": "code",
    "id": "ZHOy8b7QU8uK"
   },
   "outputs": [],
   "source": [
    "# TODO: code for data cleaning and merging"
   ]
  },
  {
   "cell_type": "markdown",
   "metadata": {
    "colab_type": "text",
    "id": "WFgIUj8WU8uO"
   },
   "source": [
    "Write your answer here"
   ]
  },
  {
   "cell_type": "code",
   "execution_count": 308,
   "metadata": {
    "colab": {},
    "colab_type": "code",
    "id": "J0UQCCJQ4_7I"
   },
   "outputs": [],
   "source": [
    "import numpy as np \n",
    "import pandas as pd \n",
    "import seaborn as sns\n",
    "import matplotlib.pyplot as plt\n",
    "%matplotlib inline"
   ]
  },
  {
   "cell_type": "code",
   "execution_count": 309,
   "metadata": {
    "colab": {
     "base_uri": "https://localhost:8080/",
     "height": 35
    },
    "colab_type": "code",
    "id": "OQ42SDHP-hnC",
    "outputId": "a70edc6b-74d4-4133-aa28-351c1c581a8c"
   },
   "outputs": [
    {
     "name": "stdout",
     "output_type": "stream",
     "text": [
      "Drive already mounted at /content/gdrive; to attempt to forcibly remount, call drive.mount(\"/content/gdrive\", force_remount=True).\n"
     ]
    }
   ],
   "source": [
    "from google.colab import drive\n",
    "drive.mount('/content/gdrive')\n"
   ]
  },
  {
   "cell_type": "code",
   "execution_count": 310,
   "metadata": {
    "colab": {
     "base_uri": "https://localhost:8080/",
     "height": 35
    },
    "colab_type": "code",
    "id": "QWJFU8eM-6Mn",
    "outputId": "456d3352-1426-4f74-9356-f31c83de910a"
   },
   "outputs": [
    {
     "name": "stdout",
     "output_type": "stream",
     "text": [
      "/content/gdrive/My Drive/519/HW2\n"
     ]
    }
   ],
   "source": [
    "cd '/content/gdrive/My Drive/519/HW2'"
   ]
  },
  {
   "cell_type": "code",
   "execution_count": 311,
   "metadata": {
    "colab": {},
    "colab_type": "code",
    "id": "oKAWTAoy5Ig2"
   },
   "outputs": [],
   "source": [
    "# load data\n",
    "items=pd.read_csv(\"items.csv\")\n",
    "shops=pd.read_csv(\"shops.csv\")\n",
    "item_categories=pd.read_csv(\"item_categories.csv\")\n",
    "train=pd.read_csv(\"sales_train.csv\")\n",
    "test=pd.read_csv(\"test.csv\")"
   ]
  },
  {
   "cell_type": "code",
   "execution_count": 312,
   "metadata": {
    "colab": {
     "base_uri": "https://localhost:8080/",
     "height": 194
    },
    "colab_type": "code",
    "id": "YIRaON9Q_bfX",
    "outputId": "bb2bda63-0478-4fe3-e652-5cc59fa32226"
   },
   "outputs": [
    {
     "data": {
      "text/html": [
       "<div>\n",
       "<style scoped>\n",
       "    .dataframe tbody tr th:only-of-type {\n",
       "        vertical-align: middle;\n",
       "    }\n",
       "\n",
       "    .dataframe tbody tr th {\n",
       "        vertical-align: top;\n",
       "    }\n",
       "\n",
       "    .dataframe thead th {\n",
       "        text-align: right;\n",
       "    }\n",
       "</style>\n",
       "<table border=\"1\" class=\"dataframe\">\n",
       "  <thead>\n",
       "    <tr style=\"text-align: right;\">\n",
       "      <th></th>\n",
       "      <th>date</th>\n",
       "      <th>date_block_num</th>\n",
       "      <th>shop_id</th>\n",
       "      <th>item_id</th>\n",
       "      <th>item_price</th>\n",
       "      <th>item_cnt_day</th>\n",
       "    </tr>\n",
       "  </thead>\n",
       "  <tbody>\n",
       "    <tr>\n",
       "      <th>0</th>\n",
       "      <td>02.01.2013</td>\n",
       "      <td>0</td>\n",
       "      <td>59</td>\n",
       "      <td>22154</td>\n",
       "      <td>999.00</td>\n",
       "      <td>1.0</td>\n",
       "    </tr>\n",
       "    <tr>\n",
       "      <th>1</th>\n",
       "      <td>03.01.2013</td>\n",
       "      <td>0</td>\n",
       "      <td>25</td>\n",
       "      <td>2552</td>\n",
       "      <td>899.00</td>\n",
       "      <td>1.0</td>\n",
       "    </tr>\n",
       "    <tr>\n",
       "      <th>2</th>\n",
       "      <td>05.01.2013</td>\n",
       "      <td>0</td>\n",
       "      <td>25</td>\n",
       "      <td>2552</td>\n",
       "      <td>899.00</td>\n",
       "      <td>-1.0</td>\n",
       "    </tr>\n",
       "    <tr>\n",
       "      <th>3</th>\n",
       "      <td>06.01.2013</td>\n",
       "      <td>0</td>\n",
       "      <td>25</td>\n",
       "      <td>2554</td>\n",
       "      <td>1709.05</td>\n",
       "      <td>1.0</td>\n",
       "    </tr>\n",
       "    <tr>\n",
       "      <th>4</th>\n",
       "      <td>15.01.2013</td>\n",
       "      <td>0</td>\n",
       "      <td>25</td>\n",
       "      <td>2555</td>\n",
       "      <td>1099.00</td>\n",
       "      <td>1.0</td>\n",
       "    </tr>\n",
       "  </tbody>\n",
       "</table>\n",
       "</div>"
      ],
      "text/plain": [
       "         date  date_block_num  shop_id  item_id  item_price  item_cnt_day\n",
       "0  02.01.2013               0       59    22154      999.00           1.0\n",
       "1  03.01.2013               0       25     2552      899.00           1.0\n",
       "2  05.01.2013               0       25     2552      899.00          -1.0\n",
       "3  06.01.2013               0       25     2554     1709.05           1.0\n",
       "4  15.01.2013               0       25     2555     1099.00           1.0"
      ]
     },
     "execution_count": 312,
     "metadata": {
      "tags": []
     },
     "output_type": "execute_result"
    }
   ],
   "source": [
    "train.head()"
   ]
  },
  {
   "cell_type": "code",
   "execution_count": 313,
   "metadata": {
    "colab": {
     "base_uri": "https://localhost:8080/",
     "height": 88
    },
    "colab_type": "code",
    "id": "3Q4nCRhuuvgS",
    "outputId": "3a7772d4-45ac-49e4-db46-c0df36992515"
   },
   "outputs": [
    {
     "name": "stdout",
     "output_type": "stream",
     "text": [
      "False    2935825\n",
      "True          24\n",
      "dtype: int64\n",
      "shape of train: (2935825, 6)\n"
     ]
    }
   ],
   "source": [
    "# drop duplicates \n",
    "subset = ['date','date_block_num','shop_id','item_id','item_cnt_day'] \n",
    "print(train.duplicated(subset=subset).value_counts()) \n",
    "train.drop_duplicates(subset=subset, inplace=True)\n",
    "print(\"shape of train:\",train.shape)"
   ]
  },
  {
   "cell_type": "code",
   "execution_count": 314,
   "metadata": {
    "colab": {
     "base_uri": "https://localhost:8080/",
     "height": 194
    },
    "colab_type": "code",
    "id": "1EsJeaDYxpx7",
    "outputId": "1a339ba9-5d04-403f-80c3-f14906a34f84"
   },
   "outputs": [
    {
     "data": {
      "text/html": [
       "<div>\n",
       "<style scoped>\n",
       "    .dataframe tbody tr th:only-of-type {\n",
       "        vertical-align: middle;\n",
       "    }\n",
       "\n",
       "    .dataframe tbody tr th {\n",
       "        vertical-align: top;\n",
       "    }\n",
       "\n",
       "    .dataframe thead th {\n",
       "        text-align: right;\n",
       "    }\n",
       "</style>\n",
       "<table border=\"1\" class=\"dataframe\">\n",
       "  <thead>\n",
       "    <tr style=\"text-align: right;\">\n",
       "      <th></th>\n",
       "      <th>date</th>\n",
       "      <th>date_block_num</th>\n",
       "      <th>shop_id</th>\n",
       "      <th>item_id</th>\n",
       "      <th>item_price</th>\n",
       "      <th>item_cnt_day</th>\n",
       "      <th>item_name</th>\n",
       "      <th>item_category_id</th>\n",
       "      <th>item_category_name</th>\n",
       "      <th>shop_name</th>\n",
       "    </tr>\n",
       "  </thead>\n",
       "  <tbody>\n",
       "    <tr>\n",
       "      <th>0</th>\n",
       "      <td>02.01.2013</td>\n",
       "      <td>0</td>\n",
       "      <td>59</td>\n",
       "      <td>22154</td>\n",
       "      <td>999.00</td>\n",
       "      <td>1.0</td>\n",
       "      <td>ЯВЛЕНИЕ 2012 (BD)</td>\n",
       "      <td>37</td>\n",
       "      <td>Кино - Blu-Ray</td>\n",
       "      <td>Ярославль ТЦ \"Альтаир\"</td>\n",
       "    </tr>\n",
       "    <tr>\n",
       "      <th>1</th>\n",
       "      <td>03.01.2013</td>\n",
       "      <td>0</td>\n",
       "      <td>25</td>\n",
       "      <td>2552</td>\n",
       "      <td>899.00</td>\n",
       "      <td>1.0</td>\n",
       "      <td>DEEP PURPLE  The House Of Blue Light  LP</td>\n",
       "      <td>58</td>\n",
       "      <td>Музыка - Винил</td>\n",
       "      <td>Москва ТРК \"Атриум\"</td>\n",
       "    </tr>\n",
       "    <tr>\n",
       "      <th>2</th>\n",
       "      <td>05.01.2013</td>\n",
       "      <td>0</td>\n",
       "      <td>25</td>\n",
       "      <td>2552</td>\n",
       "      <td>899.00</td>\n",
       "      <td>-1.0</td>\n",
       "      <td>DEEP PURPLE  The House Of Blue Light  LP</td>\n",
       "      <td>58</td>\n",
       "      <td>Музыка - Винил</td>\n",
       "      <td>Москва ТРК \"Атриум\"</td>\n",
       "    </tr>\n",
       "    <tr>\n",
       "      <th>3</th>\n",
       "      <td>06.01.2013</td>\n",
       "      <td>0</td>\n",
       "      <td>25</td>\n",
       "      <td>2554</td>\n",
       "      <td>1709.05</td>\n",
       "      <td>1.0</td>\n",
       "      <td>DEEP PURPLE  Who Do You Think We Are  LP</td>\n",
       "      <td>58</td>\n",
       "      <td>Музыка - Винил</td>\n",
       "      <td>Москва ТРК \"Атриум\"</td>\n",
       "    </tr>\n",
       "    <tr>\n",
       "      <th>4</th>\n",
       "      <td>15.01.2013</td>\n",
       "      <td>0</td>\n",
       "      <td>25</td>\n",
       "      <td>2555</td>\n",
       "      <td>1099.00</td>\n",
       "      <td>1.0</td>\n",
       "      <td>DEEP PURPLE 30 Very Best Of 2CD (Фирм.)</td>\n",
       "      <td>56</td>\n",
       "      <td>Музыка - CD фирменного производства</td>\n",
       "      <td>Москва ТРК \"Атриум\"</td>\n",
       "    </tr>\n",
       "  </tbody>\n",
       "</table>\n",
       "</div>"
      ],
      "text/plain": [
       "         date  ...               shop_name\n",
       "0  02.01.2013  ...  Ярославль ТЦ \"Альтаир\"\n",
       "1  03.01.2013  ...     Москва ТРК \"Атриум\"\n",
       "2  05.01.2013  ...     Москва ТРК \"Атриум\"\n",
       "3  06.01.2013  ...     Москва ТРК \"Атриум\"\n",
       "4  15.01.2013  ...     Москва ТРК \"Атриум\"\n",
       "\n",
       "[5 rows x 10 columns]"
      ]
     },
     "execution_count": 314,
     "metadata": {
      "tags": []
     },
     "output_type": "execute_result"
    }
   ],
   "source": [
    "# merge data\n",
    "train= pd.merge(train,items,on='item_id',how='left')\n",
    "train= pd.merge(train,item_categories,on='item_category_id',how='left')\n",
    "train= pd.merge(train,shops,on='shop_id',how='left')\n",
    "train.head()"
   ]
  },
  {
   "cell_type": "code",
   "execution_count": 315,
   "metadata": {
    "colab": {
     "base_uri": "https://localhost:8080/",
     "height": 248
    },
    "colab_type": "code",
    "id": "O3epuUsLCx6k",
    "outputId": "0d546cf1-d88b-49a0-e4b9-317fa5441832"
   },
   "outputs": [
    {
     "name": "stdout",
     "output_type": "stream",
     "text": [
      "count   2935825.00\n",
      "mean        890.86\n",
      "std        1729.81\n",
      "min          -1.00\n",
      "20%         199.00\n",
      "40%         349.00\n",
      "50%         399.00\n",
      "60%         599.00\n",
      "80%        1199.00\n",
      "95%        2690.00\n",
      "99.9%     23990.00\n",
      "max      307980.00\n",
      "Name: item_price, dtype: float64\n"
     ]
    }
   ],
   "source": [
    "perc =[.20, .40, .60, .80,.95,.999] \n",
    "\n",
    "with pd.option_context('float_format', '{:.2f}'.format):\n",
    "  print(train.describe(percentiles = perc).item_price)"
   ]
  },
  {
   "cell_type": "code",
   "execution_count": 316,
   "metadata": {
    "colab": {
     "base_uri": "https://localhost:8080/",
     "height": 124
    },
    "colab_type": "code",
    "id": "GzzomxRxix0X",
    "outputId": "d88b8e95-bf65-4cfb-df40-abf5149dd20c"
   },
   "outputs": [
    {
     "data": {
      "text/plain": [
       "2931356     42990.0\n",
       "2327138     49782.0\n",
       "1488125     50999.0\n",
       "885130      59200.0\n",
       "1163150    307980.0\n",
       "Name: item_price, dtype: float64"
      ]
     },
     "execution_count": 316,
     "metadata": {
      "tags": []
     },
     "output_type": "execute_result"
    }
   ],
   "source": [
    "train['item_price'].sort_values().tail(5)"
   ]
  },
  {
   "cell_type": "markdown",
   "metadata": {
    "colab_type": "text",
    "id": "7cmQG05-gIDB"
   },
   "source": [
    ">item_price:\n",
    ">1. Take the max price value as an outlier.<br />\n",
    ">2. min item_price = -1, replace it with median."
   ]
  },
  {
   "cell_type": "code",
   "execution_count": 317,
   "metadata": {
    "colab": {
     "base_uri": "https://localhost:8080/",
     "height": 76
    },
    "colab_type": "code",
    "id": "n70mGNGbiIPi",
    "outputId": "149e76dc-0034-4fa6-b9fc-a96c0d455f20"
   },
   "outputs": [
    {
     "data": {
      "text/html": [
       "<div>\n",
       "<style scoped>\n",
       "    .dataframe tbody tr th:only-of-type {\n",
       "        vertical-align: middle;\n",
       "    }\n",
       "\n",
       "    .dataframe tbody tr th {\n",
       "        vertical-align: top;\n",
       "    }\n",
       "\n",
       "    .dataframe thead th {\n",
       "        text-align: right;\n",
       "    }\n",
       "</style>\n",
       "<table border=\"1\" class=\"dataframe\">\n",
       "  <thead>\n",
       "    <tr style=\"text-align: right;\">\n",
       "      <th></th>\n",
       "      <th>date</th>\n",
       "      <th>date_block_num</th>\n",
       "      <th>shop_id</th>\n",
       "      <th>item_id</th>\n",
       "      <th>item_price</th>\n",
       "      <th>item_cnt_day</th>\n",
       "      <th>item_name</th>\n",
       "      <th>item_category_id</th>\n",
       "      <th>item_category_name</th>\n",
       "      <th>shop_name</th>\n",
       "    </tr>\n",
       "  </thead>\n",
       "  <tbody>\n",
       "    <tr>\n",
       "      <th>484675</th>\n",
       "      <td>15.05.2013</td>\n",
       "      <td>4</td>\n",
       "      <td>32</td>\n",
       "      <td>2973</td>\n",
       "      <td>-1.0</td>\n",
       "      <td>1.0</td>\n",
       "      <td>DmC Devil May Cry [PS3, русские субтитры]</td>\n",
       "      <td>19</td>\n",
       "      <td>Игры - PS3</td>\n",
       "      <td>Москва ТЦ \"Серебряный Дом\"</td>\n",
       "    </tr>\n",
       "  </tbody>\n",
       "</table>\n",
       "</div>"
      ],
      "text/plain": [
       "              date  ...                   shop_name\n",
       "484675  15.05.2013  ...  Москва ТЦ \"Серебряный Дом\"\n",
       "\n",
       "[1 rows x 10 columns]"
      ]
     },
     "execution_count": 317,
     "metadata": {
      "tags": []
     },
     "output_type": "execute_result"
    }
   ],
   "source": [
    "# replace median for price= -1\n",
    "train[train['item_price']==-1]"
   ]
  },
  {
   "cell_type": "code",
   "execution_count": 318,
   "metadata": {
    "colab": {},
    "colab_type": "code",
    "id": "ZJGLwH82iRZk"
   },
   "outputs": [],
   "source": [
    "price_check = train[(train['item_id']==2973) & (train['shop_id']==32)] # filter\n",
    "price_check = price_check[price_check['item_price'] > 0 ]                 # get all records for price>0\n",
    "train.loc[train['item_price']==-1,'item_price']= price_check['item_price'].median()  # replace with median"
   ]
  },
  {
   "cell_type": "code",
   "execution_count": 319,
   "metadata": {
    "colab": {
     "base_uri": "https://localhost:8080/",
     "height": 248
    },
    "colab_type": "code",
    "id": "Fr50A-5wENY4",
    "outputId": "36c53e9d-b6e7-474b-ba2d-3c37aa7b88ec"
   },
   "outputs": [
    {
     "name": "stdout",
     "output_type": "stream",
     "text": [
      "count   2935824.00\n",
      "mean        890.75\n",
      "std        1720.50\n",
      "min           0.07\n",
      "20%         199.00\n",
      "40%         349.00\n",
      "50%         399.00\n",
      "60%         599.00\n",
      "80%        1199.00\n",
      "95%        2690.00\n",
      "99.9%     23990.00\n",
      "max       59200.00\n",
      "Name: item_price, dtype: float64\n"
     ]
    }
   ],
   "source": [
    "# delete outliers of item_price\n",
    "train = train.loc[train['item_price']<100000]\n",
    "\n",
    "with pd.option_context('float_format', '{:.2f}'.format):\n",
    "  print(train.describe(percentiles = perc).item_price)"
   ]
  },
  {
   "cell_type": "code",
   "execution_count": 320,
   "metadata": {
    "colab": {
     "base_uri": "https://localhost:8080/",
     "height": 248
    },
    "colab_type": "code",
    "id": "WEQH3DyflUuA",
    "outputId": "5cca5420-3612-4466-ed3f-8e0ae31cff1b"
   },
   "outputs": [
    {
     "name": "stdout",
     "output_type": "stream",
     "text": [
      "count   2928468.00\n",
      "mean          1.25\n",
      "std           2.62\n",
      "min           1.00\n",
      "20%           1.00\n",
      "40%           1.00\n",
      "50%           1.00\n",
      "60%           1.00\n",
      "80%           1.00\n",
      "95%           2.00\n",
      "99.9%        22.00\n",
      "max        2169.00\n",
      "Name: item_cnt_day, dtype: float64\n"
     ]
    }
   ],
   "source": [
    "# delete refund items\n",
    "train = train.loc[train['item_cnt_day']>0]\n",
    "\n",
    "with pd.option_context('float_format', '{:.2f}'.format):\n",
    "  print(train.describe(percentiles = perc).item_cnt_day)"
   ]
  },
  {
   "cell_type": "code",
   "execution_count": 321,
   "metadata": {
    "colab": {
     "base_uri": "https://localhost:8080/",
     "height": 35
    },
    "colab_type": "code",
    "id": "bL9qYmP1MfaT",
    "outputId": "c24db9aa-7ab5-4710-b2f3-fcbfc85a0fd2"
   },
   "outputs": [
    {
     "data": {
      "text/plain": [
       "False"
      ]
     },
     "execution_count": 321,
     "metadata": {
      "tags": []
     },
     "output_type": "execute_result"
    }
   ],
   "source": [
    "#check null values\n",
    "null_values = train.isnull().values.any()\n",
    "null_values"
   ]
  },
  {
   "cell_type": "code",
   "execution_count": 49,
   "metadata": {
    "colab": {
     "base_uri": "https://localhost:8080/",
     "height": 194
    },
    "colab_type": "code",
    "id": "ek8iW9aqzDwI",
    "outputId": "f3465c4b-9c43-404d-f5ea-fb4b76a696ee"
   },
   "outputs": [
    {
     "data": {
      "text/html": [
       "<div>\n",
       "<style scoped>\n",
       "    .dataframe tbody tr th:only-of-type {\n",
       "        vertical-align: middle;\n",
       "    }\n",
       "\n",
       "    .dataframe tbody tr th {\n",
       "        vertical-align: top;\n",
       "    }\n",
       "\n",
       "    .dataframe thead th {\n",
       "        text-align: right;\n",
       "    }\n",
       "</style>\n",
       "<table border=\"1\" class=\"dataframe\">\n",
       "  <thead>\n",
       "    <tr style=\"text-align: right;\">\n",
       "      <th></th>\n",
       "      <th>date</th>\n",
       "      <th>date_block_num</th>\n",
       "      <th>shop_id</th>\n",
       "      <th>item_id</th>\n",
       "      <th>item_price</th>\n",
       "      <th>item_cnt_day</th>\n",
       "      <th>item_name</th>\n",
       "      <th>item_category_id</th>\n",
       "      <th>item_category_name</th>\n",
       "      <th>shop_name</th>\n",
       "    </tr>\n",
       "  </thead>\n",
       "  <tbody>\n",
       "    <tr>\n",
       "      <th>0</th>\n",
       "      <td>02.01.2013</td>\n",
       "      <td>0</td>\n",
       "      <td>59</td>\n",
       "      <td>22154</td>\n",
       "      <td>999.00</td>\n",
       "      <td>1.0</td>\n",
       "      <td>ЯВЛЕНИЕ 2012 (BD)</td>\n",
       "      <td>37</td>\n",
       "      <td>Кино - Blu-Ray</td>\n",
       "      <td>Ярославль ТЦ \"Альтаир\"</td>\n",
       "    </tr>\n",
       "    <tr>\n",
       "      <th>1</th>\n",
       "      <td>03.01.2013</td>\n",
       "      <td>0</td>\n",
       "      <td>25</td>\n",
       "      <td>2552</td>\n",
       "      <td>899.00</td>\n",
       "      <td>1.0</td>\n",
       "      <td>DEEP PURPLE  The House Of Blue Light  LP</td>\n",
       "      <td>58</td>\n",
       "      <td>Музыка - Винил</td>\n",
       "      <td>Москва ТРК \"Атриум\"</td>\n",
       "    </tr>\n",
       "    <tr>\n",
       "      <th>3</th>\n",
       "      <td>06.01.2013</td>\n",
       "      <td>0</td>\n",
       "      <td>25</td>\n",
       "      <td>2554</td>\n",
       "      <td>1709.05</td>\n",
       "      <td>1.0</td>\n",
       "      <td>DEEP PURPLE  Who Do You Think We Are  LP</td>\n",
       "      <td>58</td>\n",
       "      <td>Музыка - Винил</td>\n",
       "      <td>Москва ТРК \"Атриум\"</td>\n",
       "    </tr>\n",
       "    <tr>\n",
       "      <th>4</th>\n",
       "      <td>15.01.2013</td>\n",
       "      <td>0</td>\n",
       "      <td>25</td>\n",
       "      <td>2555</td>\n",
       "      <td>1099.00</td>\n",
       "      <td>1.0</td>\n",
       "      <td>DEEP PURPLE 30 Very Best Of 2CD (Фирм.)</td>\n",
       "      <td>56</td>\n",
       "      <td>Музыка - CD фирменного производства</td>\n",
       "      <td>Москва ТРК \"Атриум\"</td>\n",
       "    </tr>\n",
       "    <tr>\n",
       "      <th>5</th>\n",
       "      <td>10.01.2013</td>\n",
       "      <td>0</td>\n",
       "      <td>25</td>\n",
       "      <td>2564</td>\n",
       "      <td>349.00</td>\n",
       "      <td>1.0</td>\n",
       "      <td>DEEP PURPLE Perihelion: Live In Concert DVD (К...</td>\n",
       "      <td>59</td>\n",
       "      <td>Музыка - Музыкальное видео</td>\n",
       "      <td>Москва ТРК \"Атриум\"</td>\n",
       "    </tr>\n",
       "  </tbody>\n",
       "</table>\n",
       "</div>"
      ],
      "text/plain": [
       "         date  ...               shop_name\n",
       "0  02.01.2013  ...  Ярославль ТЦ \"Альтаир\"\n",
       "1  03.01.2013  ...     Москва ТРК \"Атриум\"\n",
       "3  06.01.2013  ...     Москва ТРК \"Атриум\"\n",
       "4  15.01.2013  ...     Москва ТРК \"Атриум\"\n",
       "5  10.01.2013  ...     Москва ТРК \"Атриум\"\n",
       "\n",
       "[5 rows x 10 columns]"
      ]
     },
     "execution_count": 49,
     "metadata": {
      "tags": []
     },
     "output_type": "execute_result"
    }
   ],
   "source": [
    "train.head()"
   ]
  },
  {
   "cell_type": "markdown",
   "metadata": {
    "colab_type": "text",
    "id": "rE1t-VX_U8uO"
   },
   "source": [
    "## Part 2 - Time Series Analysis"
   ]
  },
  {
   "cell_type": "code",
   "execution_count": null,
   "metadata": {
    "colab": {},
    "colab_type": "code",
    "id": "uldcQKt4U8uP"
   },
   "outputs": [],
   "source": [
    "# TODO: code for time series analysis"
   ]
  },
  {
   "cell_type": "markdown",
   "metadata": {
    "colab_type": "text",
    "id": "4CSF-gRdU8uS"
   },
   "source": [
    "Write your answer here"
   ]
  },
  {
   "cell_type": "code",
   "execution_count": 322,
   "metadata": {
    "colab": {
     "base_uri": "https://localhost:8080/",
     "height": 194
    },
    "colab_type": "code",
    "id": "I7Bbi6NdREzh",
    "outputId": "5097ab0c-d06e-40cb-e093-99ac8ebe9910"
   },
   "outputs": [
    {
     "data": {
      "text/html": [
       "<div>\n",
       "<style scoped>\n",
       "    .dataframe tbody tr th:only-of-type {\n",
       "        vertical-align: middle;\n",
       "    }\n",
       "\n",
       "    .dataframe tbody tr th {\n",
       "        vertical-align: top;\n",
       "    }\n",
       "\n",
       "    .dataframe thead th {\n",
       "        text-align: right;\n",
       "    }\n",
       "</style>\n",
       "<table border=\"1\" class=\"dataframe\">\n",
       "  <thead>\n",
       "    <tr style=\"text-align: right;\">\n",
       "      <th></th>\n",
       "      <th>date</th>\n",
       "      <th>date_block_num</th>\n",
       "      <th>shop_id</th>\n",
       "      <th>item_id</th>\n",
       "      <th>item_price</th>\n",
       "      <th>item_cnt_day</th>\n",
       "      <th>item_name</th>\n",
       "      <th>item_category_id</th>\n",
       "      <th>item_category_name</th>\n",
       "      <th>shop_name</th>\n",
       "    </tr>\n",
       "  </thead>\n",
       "  <tbody>\n",
       "    <tr>\n",
       "      <th>0</th>\n",
       "      <td>01/02/2013</td>\n",
       "      <td>0</td>\n",
       "      <td>59</td>\n",
       "      <td>22154</td>\n",
       "      <td>999.00</td>\n",
       "      <td>1.0</td>\n",
       "      <td>ЯВЛЕНИЕ 2012 (BD)</td>\n",
       "      <td>37</td>\n",
       "      <td>Кино - Blu-Ray</td>\n",
       "      <td>Ярославль ТЦ \"Альтаир\"</td>\n",
       "    </tr>\n",
       "    <tr>\n",
       "      <th>1</th>\n",
       "      <td>01/03/2013</td>\n",
       "      <td>0</td>\n",
       "      <td>25</td>\n",
       "      <td>2552</td>\n",
       "      <td>899.00</td>\n",
       "      <td>1.0</td>\n",
       "      <td>DEEP PURPLE  The House Of Blue Light  LP</td>\n",
       "      <td>58</td>\n",
       "      <td>Музыка - Винил</td>\n",
       "      <td>Москва ТРК \"Атриум\"</td>\n",
       "    </tr>\n",
       "    <tr>\n",
       "      <th>3</th>\n",
       "      <td>01/06/2013</td>\n",
       "      <td>0</td>\n",
       "      <td>25</td>\n",
       "      <td>2554</td>\n",
       "      <td>1709.05</td>\n",
       "      <td>1.0</td>\n",
       "      <td>DEEP PURPLE  Who Do You Think We Are  LP</td>\n",
       "      <td>58</td>\n",
       "      <td>Музыка - Винил</td>\n",
       "      <td>Москва ТРК \"Атриум\"</td>\n",
       "    </tr>\n",
       "    <tr>\n",
       "      <th>4</th>\n",
       "      <td>15/01/2013</td>\n",
       "      <td>0</td>\n",
       "      <td>25</td>\n",
       "      <td>2555</td>\n",
       "      <td>1099.00</td>\n",
       "      <td>1.0</td>\n",
       "      <td>DEEP PURPLE 30 Very Best Of 2CD (Фирм.)</td>\n",
       "      <td>56</td>\n",
       "      <td>Музыка - CD фирменного производства</td>\n",
       "      <td>Москва ТРК \"Атриум\"</td>\n",
       "    </tr>\n",
       "    <tr>\n",
       "      <th>5</th>\n",
       "      <td>01/10/2013</td>\n",
       "      <td>0</td>\n",
       "      <td>25</td>\n",
       "      <td>2564</td>\n",
       "      <td>349.00</td>\n",
       "      <td>1.0</td>\n",
       "      <td>DEEP PURPLE Perihelion: Live In Concert DVD (К...</td>\n",
       "      <td>59</td>\n",
       "      <td>Музыка - Музыкальное видео</td>\n",
       "      <td>Москва ТРК \"Атриум\"</td>\n",
       "    </tr>\n",
       "  </tbody>\n",
       "</table>\n",
       "</div>"
      ],
      "text/plain": [
       "         date  ...               shop_name\n",
       "0  01/02/2013  ...  Ярославль ТЦ \"Альтаир\"\n",
       "1  01/03/2013  ...     Москва ТРК \"Атриум\"\n",
       "3  01/06/2013  ...     Москва ТРК \"Атриум\"\n",
       "4  15/01/2013  ...     Москва ТРК \"Атриум\"\n",
       "5  01/10/2013  ...     Москва ТРК \"Атриум\"\n",
       "\n",
       "[5 rows x 10 columns]"
      ]
     },
     "execution_count": 322,
     "metadata": {
      "tags": []
     },
     "output_type": "execute_result"
    }
   ],
   "source": [
    "import datetime\n",
    "\n",
    "train[\"date\"] = pd.to_datetime(train[\"date\"]).dt.strftime('%d/%m/%Y')\n",
    "train.head()"
   ]
  },
  {
   "cell_type": "code",
   "execution_count": 323,
   "metadata": {
    "colab": {
     "base_uri": "https://localhost:8080/",
     "height": 194
    },
    "colab_type": "code",
    "id": "WIuEbPnAEtcc",
    "outputId": "fac72336-7519-446f-d9fa-fa5e9af7d5b9"
   },
   "outputs": [
    {
     "data": {
      "text/html": [
       "<div>\n",
       "<style scoped>\n",
       "    .dataframe tbody tr th:only-of-type {\n",
       "        vertical-align: middle;\n",
       "    }\n",
       "\n",
       "    .dataframe tbody tr th {\n",
       "        vertical-align: top;\n",
       "    }\n",
       "\n",
       "    .dataframe thead th {\n",
       "        text-align: right;\n",
       "    }\n",
       "</style>\n",
       "<table border=\"1\" class=\"dataframe\">\n",
       "  <thead>\n",
       "    <tr style=\"text-align: right;\">\n",
       "      <th></th>\n",
       "      <th>date</th>\n",
       "      <th>weekday</th>\n",
       "      <th>month</th>\n",
       "      <th>date_block_num</th>\n",
       "      <th>shop_id</th>\n",
       "      <th>item_id</th>\n",
       "      <th>item_price</th>\n",
       "      <th>item_cnt_day</th>\n",
       "      <th>item_name</th>\n",
       "      <th>item_category_id</th>\n",
       "      <th>item_category_name</th>\n",
       "      <th>shop_name</th>\n",
       "      <th>year</th>\n",
       "    </tr>\n",
       "  </thead>\n",
       "  <tbody>\n",
       "    <tr>\n",
       "      <th>0</th>\n",
       "      <td>01/02/2013</td>\n",
       "      <td>Wednesday</td>\n",
       "      <td>02</td>\n",
       "      <td>0</td>\n",
       "      <td>59</td>\n",
       "      <td>22154</td>\n",
       "      <td>999.00</td>\n",
       "      <td>1.0</td>\n",
       "      <td>ЯВЛЕНИЕ 2012 (BD)</td>\n",
       "      <td>37</td>\n",
       "      <td>Кино - Blu-Ray</td>\n",
       "      <td>Ярославль ТЦ \"Альтаир\"</td>\n",
       "      <td>2013</td>\n",
       "    </tr>\n",
       "    <tr>\n",
       "      <th>1</th>\n",
       "      <td>01/03/2013</td>\n",
       "      <td>Thursday</td>\n",
       "      <td>03</td>\n",
       "      <td>0</td>\n",
       "      <td>25</td>\n",
       "      <td>2552</td>\n",
       "      <td>899.00</td>\n",
       "      <td>1.0</td>\n",
       "      <td>DEEP PURPLE  The House Of Blue Light  LP</td>\n",
       "      <td>58</td>\n",
       "      <td>Музыка - Винил</td>\n",
       "      <td>Москва ТРК \"Атриум\"</td>\n",
       "      <td>2013</td>\n",
       "    </tr>\n",
       "    <tr>\n",
       "      <th>3</th>\n",
       "      <td>01/06/2013</td>\n",
       "      <td>Sunday</td>\n",
       "      <td>06</td>\n",
       "      <td>0</td>\n",
       "      <td>25</td>\n",
       "      <td>2554</td>\n",
       "      <td>1709.05</td>\n",
       "      <td>1.0</td>\n",
       "      <td>DEEP PURPLE  Who Do You Think We Are  LP</td>\n",
       "      <td>58</td>\n",
       "      <td>Музыка - Винил</td>\n",
       "      <td>Москва ТРК \"Атриум\"</td>\n",
       "      <td>2013</td>\n",
       "    </tr>\n",
       "    <tr>\n",
       "      <th>4</th>\n",
       "      <td>15/01/2013</td>\n",
       "      <td>Tuesday</td>\n",
       "      <td>01</td>\n",
       "      <td>0</td>\n",
       "      <td>25</td>\n",
       "      <td>2555</td>\n",
       "      <td>1099.00</td>\n",
       "      <td>1.0</td>\n",
       "      <td>DEEP PURPLE 30 Very Best Of 2CD (Фирм.)</td>\n",
       "      <td>56</td>\n",
       "      <td>Музыка - CD фирменного производства</td>\n",
       "      <td>Москва ТРК \"Атриум\"</td>\n",
       "      <td>2013</td>\n",
       "    </tr>\n",
       "    <tr>\n",
       "      <th>5</th>\n",
       "      <td>01/10/2013</td>\n",
       "      <td>Thursday</td>\n",
       "      <td>10</td>\n",
       "      <td>0</td>\n",
       "      <td>25</td>\n",
       "      <td>2564</td>\n",
       "      <td>349.00</td>\n",
       "      <td>1.0</td>\n",
       "      <td>DEEP PURPLE Perihelion: Live In Concert DVD (К...</td>\n",
       "      <td>59</td>\n",
       "      <td>Музыка - Музыкальное видео</td>\n",
       "      <td>Москва ТРК \"Атриум\"</td>\n",
       "      <td>2013</td>\n",
       "    </tr>\n",
       "  </tbody>\n",
       "</table>\n",
       "</div>"
      ],
      "text/plain": [
       "         date    weekday  ...               shop_name  year\n",
       "0  01/02/2013  Wednesday  ...  Ярославль ТЦ \"Альтаир\"  2013\n",
       "1  01/03/2013   Thursday  ...     Москва ТРК \"Атриум\"  2013\n",
       "3  01/06/2013     Sunday  ...     Москва ТРК \"Атриум\"  2013\n",
       "4  15/01/2013    Tuesday  ...     Москва ТРК \"Атриум\"  2013\n",
       "5  01/10/2013   Thursday  ...     Москва ТРК \"Атриум\"  2013\n",
       "\n",
       "[5 rows x 13 columns]"
      ]
     },
     "execution_count": 323,
     "metadata": {
      "tags": []
     },
     "output_type": "execute_result"
    }
   ],
   "source": [
    "# insert 'weekday', 'month', 'year' column\n",
    "train.insert(1,\"weekday\",pd.to_datetime(train[\"date\"]).dt.strftime('%A'))\n",
    "\n",
    "month = []\n",
    "for date in train['date'].values:\n",
    "  d,m,y = date.split(\"/\")\n",
    "  month.append(m)\n",
    "\n",
    "train.insert(2,\"month\",month)\n",
    "\n",
    "train['year'] = (train['date_block_num'] // 12 ) + 2013\n",
    "train.head()"
   ]
  },
  {
   "cell_type": "code",
   "execution_count": 324,
   "metadata": {
    "colab": {
     "base_uri": "https://localhost:8080/",
     "height": 194
    },
    "colab_type": "code",
    "id": "rrgD-qOKb6GM",
    "outputId": "f8b5369a-ce2b-4598-d523-d6f19ad55121"
   },
   "outputs": [
    {
     "data": {
      "text/html": [
       "<div>\n",
       "<style scoped>\n",
       "    .dataframe tbody tr th:only-of-type {\n",
       "        vertical-align: middle;\n",
       "    }\n",
       "\n",
       "    .dataframe tbody tr th {\n",
       "        vertical-align: top;\n",
       "    }\n",
       "\n",
       "    .dataframe thead th {\n",
       "        text-align: right;\n",
       "    }\n",
       "</style>\n",
       "<table border=\"1\" class=\"dataframe\">\n",
       "  <thead>\n",
       "    <tr style=\"text-align: right;\">\n",
       "      <th></th>\n",
       "      <th>date</th>\n",
       "      <th>weekday</th>\n",
       "      <th>month</th>\n",
       "      <th>date_block_num</th>\n",
       "      <th>shop_id</th>\n",
       "      <th>item_id</th>\n",
       "      <th>item_price</th>\n",
       "      <th>item_cnt_day</th>\n",
       "      <th>item_name</th>\n",
       "      <th>item_category_id</th>\n",
       "      <th>item_category_name</th>\n",
       "      <th>shop_name</th>\n",
       "      <th>year</th>\n",
       "      <th>revenue</th>\n",
       "    </tr>\n",
       "  </thead>\n",
       "  <tbody>\n",
       "    <tr>\n",
       "      <th>0</th>\n",
       "      <td>01/02/2013</td>\n",
       "      <td>Wednesday</td>\n",
       "      <td>02</td>\n",
       "      <td>0</td>\n",
       "      <td>59</td>\n",
       "      <td>22154</td>\n",
       "      <td>999.00</td>\n",
       "      <td>1.0</td>\n",
       "      <td>ЯВЛЕНИЕ 2012 (BD)</td>\n",
       "      <td>37</td>\n",
       "      <td>Кино - Blu-Ray</td>\n",
       "      <td>Ярославль ТЦ \"Альтаир\"</td>\n",
       "      <td>2013</td>\n",
       "      <td>999.00</td>\n",
       "    </tr>\n",
       "    <tr>\n",
       "      <th>1</th>\n",
       "      <td>01/03/2013</td>\n",
       "      <td>Thursday</td>\n",
       "      <td>03</td>\n",
       "      <td>0</td>\n",
       "      <td>25</td>\n",
       "      <td>2552</td>\n",
       "      <td>899.00</td>\n",
       "      <td>1.0</td>\n",
       "      <td>DEEP PURPLE  The House Of Blue Light  LP</td>\n",
       "      <td>58</td>\n",
       "      <td>Музыка - Винил</td>\n",
       "      <td>Москва ТРК \"Атриум\"</td>\n",
       "      <td>2013</td>\n",
       "      <td>899.00</td>\n",
       "    </tr>\n",
       "    <tr>\n",
       "      <th>3</th>\n",
       "      <td>01/06/2013</td>\n",
       "      <td>Sunday</td>\n",
       "      <td>06</td>\n",
       "      <td>0</td>\n",
       "      <td>25</td>\n",
       "      <td>2554</td>\n",
       "      <td>1709.05</td>\n",
       "      <td>1.0</td>\n",
       "      <td>DEEP PURPLE  Who Do You Think We Are  LP</td>\n",
       "      <td>58</td>\n",
       "      <td>Музыка - Винил</td>\n",
       "      <td>Москва ТРК \"Атриум\"</td>\n",
       "      <td>2013</td>\n",
       "      <td>1709.05</td>\n",
       "    </tr>\n",
       "    <tr>\n",
       "      <th>4</th>\n",
       "      <td>15/01/2013</td>\n",
       "      <td>Tuesday</td>\n",
       "      <td>01</td>\n",
       "      <td>0</td>\n",
       "      <td>25</td>\n",
       "      <td>2555</td>\n",
       "      <td>1099.00</td>\n",
       "      <td>1.0</td>\n",
       "      <td>DEEP PURPLE 30 Very Best Of 2CD (Фирм.)</td>\n",
       "      <td>56</td>\n",
       "      <td>Музыка - CD фирменного производства</td>\n",
       "      <td>Москва ТРК \"Атриум\"</td>\n",
       "      <td>2013</td>\n",
       "      <td>1099.00</td>\n",
       "    </tr>\n",
       "    <tr>\n",
       "      <th>5</th>\n",
       "      <td>01/10/2013</td>\n",
       "      <td>Thursday</td>\n",
       "      <td>10</td>\n",
       "      <td>0</td>\n",
       "      <td>25</td>\n",
       "      <td>2564</td>\n",
       "      <td>349.00</td>\n",
       "      <td>1.0</td>\n",
       "      <td>DEEP PURPLE Perihelion: Live In Concert DVD (К...</td>\n",
       "      <td>59</td>\n",
       "      <td>Музыка - Музыкальное видео</td>\n",
       "      <td>Москва ТРК \"Атриум\"</td>\n",
       "      <td>2013</td>\n",
       "      <td>349.00</td>\n",
       "    </tr>\n",
       "  </tbody>\n",
       "</table>\n",
       "</div>"
      ],
      "text/plain": [
       "         date    weekday month  ...               shop_name  year  revenue\n",
       "0  01/02/2013  Wednesday    02  ...  Ярославль ТЦ \"Альтаир\"  2013   999.00\n",
       "1  01/03/2013   Thursday    03  ...     Москва ТРК \"Атриум\"  2013   899.00\n",
       "3  01/06/2013     Sunday    06  ...     Москва ТРК \"Атриум\"  2013  1709.05\n",
       "4  15/01/2013    Tuesday    01  ...     Москва ТРК \"Атриум\"  2013  1099.00\n",
       "5  01/10/2013   Thursday    10  ...     Москва ТРК \"Атриум\"  2013   349.00\n",
       "\n",
       "[5 rows x 14 columns]"
      ]
     },
     "execution_count": 324,
     "metadata": {
      "tags": []
     },
     "output_type": "execute_result"
    }
   ],
   "source": [
    "# add 'revenue' column\n",
    "train['revenue'] = train.item_price * train.item_cnt_day\n",
    "train.head()"
   ]
  },
  {
   "cell_type": "code",
   "execution_count": 325,
   "metadata": {
    "colab": {
     "base_uri": "https://localhost:8080/",
     "height": 320
    },
    "colab_type": "code",
    "id": "MyffrKkfejDz",
    "outputId": "ca1de596-d3f2-4113-d295-6539827fff43"
   },
   "outputs": [
    {
     "data": {
      "image/png": "[encoded data removed]",
      "text/plain": [
       "<Figure size 432x288 with 1 Axes>"
      ]
     },
     "metadata": {
      "needs_background": "light",
      "tags": []
     },
     "output_type": "display_data"
    }
   ],
   "source": [
    "days = [ 'Monday', 'Tuesday', 'Wednesday', 'Thursday', 'Friday', 'Saturday', 'Sunday']\n",
    "mons = [ '01', '02', '03', '04', '05', '06', '07', '08', '09', '10', '11', '12']\n",
    "\n",
    "weekday_sale=train.groupby('weekday')['item_cnt_day'].sum()\n",
    "weekday_sale.index=days\n",
    "weekday_sale.plot(kind='bar')\n",
    "plt.title(\"Sales by weekday\", size=14)\n",
    "plt.xticks(rotation=45)\n",
    "plt.ylabel('Sales')\n",
    "plt.show()"
   ]
  },
  {
   "cell_type": "code",
   "execution_count": 326,
   "metadata": {
    "colab": {
     "base_uri": "https://localhost:8080/",
     "height": 296
    },
    "colab_type": "code",
    "id": "96d64r9BfgJK",
    "outputId": "68fbd61a-04ac-4355-bd71-61d3137399d1"
   },
   "outputs": [
    {
     "data": {
      "image/png": "[encoded data removed]",
      "text/plain": [
       "<Figure size 432x288 with 1 Axes>"
      ]
     },
     "metadata": {
      "needs_background": "light",
      "tags": []
     },
     "output_type": "display_data"
    }
   ],
   "source": [
    "train.groupby('month')['revenue'].sum().plot(kind='bar')\n",
    "plt.title(\"Revenue by month\", size=14)\n",
    "plt.xticks(rotation=0)\n",
    "plt.ylabel('Revenue')\n",
    "plt.show()"
   ]
  },
  {
   "cell_type": "code",
   "execution_count": 327,
   "metadata": {
    "colab": {
     "base_uri": "https://localhost:8080/",
     "height": 308
    },
    "colab_type": "code",
    "id": "M6TbZoZWajjf",
    "outputId": "416335a6-5e99-4a61-e1e2-2734c80b53ce"
   },
   "outputs": [
    {
     "data": {
      "text/plain": [
       "<matplotlib.axes._subplots.AxesSubplot at 0x7f803e2aab70>"
      ]
     },
     "execution_count": 327,
     "metadata": {
      "tags": []
     },
     "output_type": "execute_result"
    },
    {
     "data": {
      "image/png": "[encoded data removed]",
      "text/plain": [
       "<Figure size 432x288 with 1 Axes>"
      ]
     },
     "metadata": {
      "needs_background": "light",
      "tags": []
     },
     "output_type": "display_data"
    }
   ],
   "source": [
    "sns.pointplot(x='month', y='revenue', hue='year', data=train, estimator=np.sum)"
   ]
  },
  {
   "cell_type": "code",
   "execution_count": 328,
   "metadata": {
    "colab": {
     "base_uri": "https://localhost:8080/",
     "height": 70
    },
    "colab_type": "code",
    "id": "rq_t-lAEBffq",
    "outputId": "cccefbfc-ff55-4c46-8e6e-c87c070e4b87"
   },
   "outputs": [
    {
     "name": "stdout",
     "output_type": "stream",
     "text": [
      "total counts in 2013: (1264481, 14)\n",
      "total counts in 2014: (1053199, 14)\n",
      "total counts in 2015: (610788, 14)\n"
     ]
    }
   ],
   "source": [
    "print(\"total counts in 2013:\",train[train['year']==2013].shape)\n",
    "print(\"total counts in 2014:\",train[train['year']==2014].shape)\n",
    "print(\"total counts in 2015:\",train[train['year']==2015].shape)"
   ]
  },
  {
   "cell_type": "markdown",
   "metadata": {
    "colab_type": "text",
    "id": "fzYexPd2pH9d"
   },
   "source": [
    ">Explain: <br/>\n",
    ">1. For weekdays, items are sold more on weekends, and less on workdays. People tend to shop when they are resting at home.\n",
    ">2. For months, monthly revenue are higher in the 4th season, especially in December. Maybe because there are more holidays like Christmas so that there are more discounts.\n",
    ">3. We can see that records in 2015 is extremly less than those in 2013 and 2014, and that's why the revenue in 2015 sharply decreased."
   ]
  },
  {
   "cell_type": "markdown",
   "metadata": {
    "colab_type": "text",
    "id": "ga7aeAF1U8uS"
   },
   "source": [
    "## Part 3 - More Time Series Analysis"
   ]
  },
  {
   "cell_type": "code",
   "execution_count": null,
   "metadata": {
    "colab": {},
    "colab_type": "code",
    "id": "9qN6ak9zU8uT"
   },
   "outputs": [],
   "source": [
    "# TODO: code for time series analysis"
   ]
  },
  {
   "cell_type": "markdown",
   "metadata": {
    "colab_type": "text",
    "id": "4t6ZJtxmU8uV"
   },
   "source": [
    "Write your answer here"
   ]
  },
  {
   "cell_type": "code",
   "execution_count": 58,
   "metadata": {
    "colab": {
     "base_uri": "https://localhost:8080/",
     "height": 284
    },
    "colab_type": "code",
    "id": "gK2vfEB7Svmb",
    "outputId": "847e1fe0-a3fb-4c67-c397-11471ebcc23f"
   },
   "outputs": [
    {
     "name": "stdout",
     "output_type": "stream",
     "text": [
      "Requirement already satisfied: googletrans in /usr/local/lib/python3.6/dist-packages (3.0.0)\n",
      "Requirement already satisfied: httpx==0.13.3 in /usr/local/lib/python3.6/dist-packages (from googletrans) (0.13.3)\n",
      "Requirement already satisfied: sniffio in /usr/local/lib/python3.6/dist-packages (from httpx==0.13.3->googletrans) (1.1.0)\n",
      "Requirement already satisfied: certifi in /usr/local/lib/python3.6/dist-packages (from httpx==0.13.3->googletrans) (2020.6.20)\n",
      "Requirement already satisfied: idna==2.* in /usr/local/lib/python3.6/dist-packages (from httpx==0.13.3->googletrans) (2.10)\n",
      "Requirement already satisfied: httpcore==0.9.* in /usr/local/lib/python3.6/dist-packages (from httpx==0.13.3->googletrans) (0.9.1)\n",
      "Requirement already satisfied: chardet==3.* in /usr/local/lib/python3.6/dist-packages (from httpx==0.13.3->googletrans) (3.0.4)\n",
      "Requirement already satisfied: hstspreload in /usr/local/lib/python3.6/dist-packages (from httpx==0.13.3->googletrans) (2020.9.23)\n",
      "Requirement already satisfied: rfc3986<2,>=1.3 in /usr/local/lib/python3.6/dist-packages (from httpx==0.13.3->googletrans) (1.4.0)\n",
      "Requirement already satisfied: contextvars>=2.1; python_version < \"3.7\" in /usr/local/lib/python3.6/dist-packages (from sniffio->httpx==0.13.3->googletrans) (2.4)\n",
      "Requirement already satisfied: h2==3.* in /usr/local/lib/python3.6/dist-packages (from httpcore==0.9.*->httpx==0.13.3->googletrans) (3.2.0)\n",
      "Requirement already satisfied: h11<0.10,>=0.8 in /usr/local/lib/python3.6/dist-packages (from httpcore==0.9.*->httpx==0.13.3->googletrans) (0.9.0)\n",
      "Requirement already satisfied: immutables>=0.9 in /usr/local/lib/python3.6/dist-packages (from contextvars>=2.1; python_version < \"3.7\"->sniffio->httpx==0.13.3->googletrans) (0.14)\n",
      "Requirement already satisfied: hpack<4,>=3.0 in /usr/local/lib/python3.6/dist-packages (from h2==3.*->httpcore==0.9.*->httpx==0.13.3->googletrans) (3.0.0)\n",
      "Requirement already satisfied: hyperframe<6,>=5.2.0 in /usr/local/lib/python3.6/dist-packages (from h2==3.*->httpcore==0.9.*->httpx==0.13.3->googletrans) (5.2.0)\n"
     ]
    }
   ],
   "source": [
    "pip install googletrans"
   ]
  },
  {
   "cell_type": "code",
   "execution_count": 329,
   "metadata": {
    "colab": {
     "base_uri": "https://localhost:8080/",
     "height": 194
    },
    "colab_type": "code",
    "id": "amE_7HTt2pVk",
    "outputId": "a44e6e37-ef90-4fb3-df55-542fd6cbcfae"
   },
   "outputs": [
    {
     "data": {
      "text/html": [
       "<div>\n",
       "<style scoped>\n",
       "    .dataframe tbody tr th:only-of-type {\n",
       "        vertical-align: middle;\n",
       "    }\n",
       "\n",
       "    .dataframe tbody tr th {\n",
       "        vertical-align: top;\n",
       "    }\n",
       "\n",
       "    .dataframe thead th {\n",
       "        text-align: right;\n",
       "    }\n",
       "</style>\n",
       "<table border=\"1\" class=\"dataframe\">\n",
       "  <thead>\n",
       "    <tr style=\"text-align: right;\">\n",
       "      <th></th>\n",
       "      <th>item_category_name</th>\n",
       "      <th>item_category_id</th>\n",
       "    </tr>\n",
       "  </thead>\n",
       "  <tbody>\n",
       "    <tr>\n",
       "      <th>0</th>\n",
       "      <td>PC - Headsets / Headphones</td>\n",
       "      <td>0</td>\n",
       "    </tr>\n",
       "    <tr>\n",
       "      <th>1</th>\n",
       "      <td>Accessories - PS2</td>\n",
       "      <td>1</td>\n",
       "    </tr>\n",
       "    <tr>\n",
       "      <th>2</th>\n",
       "      <td>Accessories - PS3</td>\n",
       "      <td>2</td>\n",
       "    </tr>\n",
       "    <tr>\n",
       "      <th>3</th>\n",
       "      <td>Accessories - PS4</td>\n",
       "      <td>3</td>\n",
       "    </tr>\n",
       "    <tr>\n",
       "      <th>4</th>\n",
       "      <td>Accessories - PSP</td>\n",
       "      <td>4</td>\n",
       "    </tr>\n",
       "  </tbody>\n",
       "</table>\n",
       "</div>"
      ],
      "text/plain": [
       "           item_category_name  item_category_id\n",
       "0  PC - Headsets / Headphones                 0\n",
       "1           Accessories - PS2                 1\n",
       "2           Accessories - PS3                 2\n",
       "3           Accessories - PS4                 3\n",
       "4           Accessories - PSP                 4"
      ]
     },
     "execution_count": 329,
     "metadata": {
      "tags": []
     },
     "output_type": "execute_result"
    }
   ],
   "source": [
    "from googletrans import Translator\n",
    "\n",
    "translator = Translator()\n",
    "item_categories['item_category_name'] = item_categories['item_category_name'].apply(translator.translate, src='ru', dest='en').apply(getattr, args=('text',))\n",
    "item_categories.head()"
   ]
  },
  {
   "cell_type": "code",
   "execution_count": 330,
   "metadata": {
    "colab": {
     "base_uri": "https://localhost:8080/",
     "height": 194
    },
    "colab_type": "code",
    "id": "tSR94Bjs1FjO",
    "outputId": "599fa026-b123-4a94-8d50-497961ef0e9b"
   },
   "outputs": [
    {
     "data": {
      "text/html": [
       "<div>\n",
       "<style scoped>\n",
       "    .dataframe tbody tr th:only-of-type {\n",
       "        vertical-align: middle;\n",
       "    }\n",
       "\n",
       "    .dataframe tbody tr th {\n",
       "        vertical-align: top;\n",
       "    }\n",
       "\n",
       "    .dataframe thead th {\n",
       "        text-align: right;\n",
       "    }\n",
       "</style>\n",
       "<table border=\"1\" class=\"dataframe\">\n",
       "  <thead>\n",
       "    <tr style=\"text-align: right;\">\n",
       "      <th></th>\n",
       "      <th>date</th>\n",
       "      <th>weekday</th>\n",
       "      <th>month</th>\n",
       "      <th>date_block_num</th>\n",
       "      <th>shop_id</th>\n",
       "      <th>item_id</th>\n",
       "      <th>item_price</th>\n",
       "      <th>item_cnt_day</th>\n",
       "      <th>item_name</th>\n",
       "      <th>item_category_id</th>\n",
       "      <th>shop_name</th>\n",
       "      <th>year</th>\n",
       "      <th>revenue</th>\n",
       "      <th>item_category_name</th>\n",
       "    </tr>\n",
       "  </thead>\n",
       "  <tbody>\n",
       "    <tr>\n",
       "      <th>0</th>\n",
       "      <td>01/02/2013</td>\n",
       "      <td>Wednesday</td>\n",
       "      <td>02</td>\n",
       "      <td>0</td>\n",
       "      <td>59</td>\n",
       "      <td>22154</td>\n",
       "      <td>999.00</td>\n",
       "      <td>1.0</td>\n",
       "      <td>ЯВЛЕНИЕ 2012 (BD)</td>\n",
       "      <td>37</td>\n",
       "      <td>Ярославль ТЦ \"Альтаир\"</td>\n",
       "      <td>2013</td>\n",
       "      <td>999.00</td>\n",
       "      <td>Cinema - Blu-Ray</td>\n",
       "    </tr>\n",
       "    <tr>\n",
       "      <th>1</th>\n",
       "      <td>01/03/2013</td>\n",
       "      <td>Thursday</td>\n",
       "      <td>03</td>\n",
       "      <td>0</td>\n",
       "      <td>25</td>\n",
       "      <td>2552</td>\n",
       "      <td>899.00</td>\n",
       "      <td>1.0</td>\n",
       "      <td>DEEP PURPLE  The House Of Blue Light  LP</td>\n",
       "      <td>58</td>\n",
       "      <td>Москва ТРК \"Атриум\"</td>\n",
       "      <td>2013</td>\n",
       "      <td>899.00</td>\n",
       "      <td>Music - Vinyl</td>\n",
       "    </tr>\n",
       "    <tr>\n",
       "      <th>2</th>\n",
       "      <td>01/06/2013</td>\n",
       "      <td>Sunday</td>\n",
       "      <td>06</td>\n",
       "      <td>0</td>\n",
       "      <td>25</td>\n",
       "      <td>2554</td>\n",
       "      <td>1709.05</td>\n",
       "      <td>1.0</td>\n",
       "      <td>DEEP PURPLE  Who Do You Think We Are  LP</td>\n",
       "      <td>58</td>\n",
       "      <td>Москва ТРК \"Атриум\"</td>\n",
       "      <td>2013</td>\n",
       "      <td>1709.05</td>\n",
       "      <td>Music - Vinyl</td>\n",
       "    </tr>\n",
       "    <tr>\n",
       "      <th>3</th>\n",
       "      <td>15/01/2013</td>\n",
       "      <td>Tuesday</td>\n",
       "      <td>01</td>\n",
       "      <td>0</td>\n",
       "      <td>25</td>\n",
       "      <td>2555</td>\n",
       "      <td>1099.00</td>\n",
       "      <td>1.0</td>\n",
       "      <td>DEEP PURPLE 30 Very Best Of 2CD (Фирм.)</td>\n",
       "      <td>56</td>\n",
       "      <td>Москва ТРК \"Атриум\"</td>\n",
       "      <td>2013</td>\n",
       "      <td>1099.00</td>\n",
       "      <td>Music - branded CD</td>\n",
       "    </tr>\n",
       "    <tr>\n",
       "      <th>4</th>\n",
       "      <td>01/10/2013</td>\n",
       "      <td>Thursday</td>\n",
       "      <td>10</td>\n",
       "      <td>0</td>\n",
       "      <td>25</td>\n",
       "      <td>2564</td>\n",
       "      <td>349.00</td>\n",
       "      <td>1.0</td>\n",
       "      <td>DEEP PURPLE Perihelion: Live In Concert DVD (К...</td>\n",
       "      <td>59</td>\n",
       "      <td>Москва ТРК \"Атриум\"</td>\n",
       "      <td>2013</td>\n",
       "      <td>349.00</td>\n",
       "      <td>Music - Music video</td>\n",
       "    </tr>\n",
       "  </tbody>\n",
       "</table>\n",
       "</div>"
      ],
      "text/plain": [
       "         date    weekday month  ...  year  revenue   item_category_name\n",
       "0  01/02/2013  Wednesday    02  ...  2013   999.00     Cinema - Blu-Ray\n",
       "1  01/03/2013   Thursday    03  ...  2013   899.00        Music - Vinyl\n",
       "2  01/06/2013     Sunday    06  ...  2013  1709.05        Music - Vinyl\n",
       "3  15/01/2013    Tuesday    01  ...  2013  1099.00   Music - branded CD\n",
       "4  01/10/2013   Thursday    10  ...  2013   349.00  Music - Music video\n",
       "\n",
       "[5 rows x 14 columns]"
      ]
     },
     "execution_count": 330,
     "metadata": {
      "tags": []
     },
     "output_type": "execute_result"
    }
   ],
   "source": [
    "# replace with the translated column\n",
    "train.drop(['item_category_name'],axis=1,inplace=True)\n",
    "train= pd.merge(train,item_categories,on='item_category_id',how='left')\n",
    "train.head()"
   ]
  },
  {
   "cell_type": "code",
   "execution_count": 331,
   "metadata": {
    "colab": {},
    "colab_type": "code",
    "id": "6M28TmXnSp2W"
   },
   "outputs": [],
   "source": [
    "train1 = copy.deepcopy(train)"
   ]
  },
  {
   "cell_type": "markdown",
   "metadata": {
    "colab_type": "text",
    "id": "HYQESFasrOED"
   },
   "source": [
    "###Interested Category: Game consoles <br/>"
   ]
  },
  {
   "cell_type": "code",
   "execution_count": 332,
   "metadata": {
    "colab": {
     "base_uri": "https://localhost:8080/",
     "height": 575
    },
    "colab_type": "code",
    "id": "wITiAYiRcCP-",
    "outputId": "60408410-bd97-40aa-9f83-3c8a3bbff98a"
   },
   "outputs": [
    {
     "data": {
      "image/png": "[encoded data removed]",
      "text/plain": [
       "<Figure size 432x288 with 1 Axes>"
      ]
     },
     "metadata": {
      "needs_background": "light",
      "tags": []
     },
     "output_type": "display_data"
    },
    {
     "data": {
      "image/png": "[encoded data removed]",
      "text/plain": [
       "<Figure size 432x288 with 1 Axes>"
      ]
     },
     "metadata": {
      "needs_background": "light",
      "tags": []
     },
     "output_type": "display_data"
    }
   ],
   "source": [
    "PS4 = train.loc[train['item_category_name']=='Game consoles - PS4']\n",
    "PS4.groupby('month')['item_cnt_day'].sum().reindex(mons).plot(kind='bar')\n",
    "\n",
    "plt.title(\"PS4 sales \", size=14)\n",
    "plt.xticks(rotation=0)\n",
    "plt.ylabel('Sales')\n",
    "plt.show()\n",
    "\n",
    "Xbox1 = train.loc[train['item_category_name']=='Game consoles - XBOX ONE']\n",
    "Xbox1.groupby('month')['item_cnt_day'].sum().reindex(mons).plot(kind='bar')\n",
    "\n",
    "plt.title(\"XBOX ONE sales \", size=14)\n",
    "plt.xticks(rotation=0)\n",
    "plt.ylabel('Sales')\n",
    "plt.show()"
   ]
  },
  {
   "cell_type": "code",
   "execution_count": 333,
   "metadata": {
    "colab": {
     "base_uri": "https://localhost:8080/",
     "height": 577
    },
    "colab_type": "code",
    "id": "pYDkewDebNWG",
    "outputId": "d3d04d08-012f-418f-8a4b-bb90705ac580"
   },
   "outputs": [
    {
     "data": {
      "image/png": "[encoded data removed]",
      "text/plain": [
       "<Figure size 432x288 with 1 Axes>"
      ]
     },
     "metadata": {
      "needs_background": "light",
      "tags": []
     },
     "output_type": "display_data"
    },
    {
     "data": {
      "image/png": "[encoded data removed]",
      "text/plain": [
       "<Figure size 432x288 with 1 Axes>"
      ]
     },
     "metadata": {
      "needs_background": "light",
      "tags": []
     },
     "output_type": "display_data"
    }
   ],
   "source": [
    "PS4 = train.loc[train['item_category_name']=='Game consoles - PS4']\n",
    "PS4.groupby('date_block_num')['item_cnt_day'].sum().plot(kind='bar')\n",
    "\n",
    "plt.title(\"PS4 sales \", size=14)\n",
    "plt.xticks(rotation=0)\n",
    "plt.ylabel('Sales')\n",
    "plt.show()\n",
    "\n",
    "Xbox1 = train.loc[train['item_category_name']=='Game consoles - XBOX ONE']\n",
    "Xbox1.groupby('date_block_num')['item_cnt_day'].sum().plot(kind='bar')\n",
    "\n",
    "plt.title(\"XBOX ONE sales \", size=14)\n",
    "plt.xticks(rotation=0)\n",
    "plt.ylabel('Sales')\n",
    "plt.show()\n"
   ]
  },
  {
   "cell_type": "markdown",
   "metadata": {
    "colab_type": "text",
    "id": "3URLdHB60kvF"
   },
   "source": [
    "> During 2013-2015, Sony and Microsoft released their newest game consoles: <br/>\n",
    "\n",
    "*   PS4 was released in 2013.10\n",
    "*   Xbox One was released in 2014.9\n",
    "\n",
    "From the plot we can see that here are indeed sales peaks during during this time.  <br/>Also we can see the Chirstmas brings sales peak."
   ]
  },
  {
   "cell_type": "markdown",
   "metadata": {
    "colab_type": "text",
    "id": "q8FvbRGysCg-"
   },
   "source": [
    "###Item categories with most sales"
   ]
  },
  {
   "cell_type": "code",
   "execution_count": 334,
   "metadata": {
    "colab": {
     "base_uri": "https://localhost:8080/",
     "height": 371
    },
    "colab_type": "code",
    "id": "UFd6-v9m-EjA",
    "outputId": "14cb4c2d-0623-45a3-c7d8-f8aaa88d9e67"
   },
   "outputs": [
    {
     "data": {
      "image/png": "[encoded data removed]",
      "text/plain": [
       "<Figure size 432x288 with 1 Axes>"
      ]
     },
     "metadata": {
      "needs_background": "light",
      "tags": []
     },
     "output_type": "display_data"
    }
   ],
   "source": [
    "train.groupby('item_category_name')['item_cnt_day'].sum().nlargest(3).plot(kind='bar')\n",
    "\n",
    "plt.title(\"Categories with most sales \", size=14)\n",
    "plt.xticks(rotation=30)\n",
    "plt.ylabel('Sales')\n",
    "plt.show()"
   ]
  },
  {
   "cell_type": "code",
   "execution_count": 335,
   "metadata": {
    "colab": {
     "base_uri": "https://localhost:8080/",
     "height": 854
    },
    "colab_type": "code",
    "id": "45bH6m0_AaY1",
    "outputId": "2f56e659-404c-4488-cf89-5a19f63159e2"
   },
   "outputs": [
    {
     "data": {
      "image/png": "[encoded data removed]",
      "text/plain": [
       "<Figure size 432x288 with 1 Axes>"
      ]
     },
     "metadata": {
      "needs_background": "light",
      "tags": []
     },
     "output_type": "display_data"
    },
    {
     "data": {
      "image/png": "[encoded data removed]",
      "text/plain": [
       "<Figure size 432x288 with 1 Axes>"
      ]
     },
     "metadata": {
      "needs_background": "light",
      "tags": []
     },
     "output_type": "display_data"
    },
    {
     "data": {
      "image/png": "[encoded data removed]",
      "text/plain": [
       "<Figure size 432x288 with 1 Axes>"
      ]
     },
     "metadata": {
      "needs_background": "light",
      "tags": []
     },
     "output_type": "display_data"
    }
   ],
   "source": [
    "movie = train.loc[train['item_category_name']=='Movie - DVD']\n",
    "movie.groupby('month')['item_cnt_day'].sum().reindex(mons).plot(kind='bar')\n",
    "\n",
    "\n",
    "plt.title(\"Movies' sales by month\", size=14)\n",
    "plt.xticks(rotation=0)\n",
    "plt.ylabel('Amount of Sales')\n",
    "plt.show()\n",
    "\n",
    "PCgames = train.loc[train['item_category_name']=='PC Games - Standard Editions']\n",
    "PCgames.groupby('month')['item_cnt_day'].sum().reindex(mons).plot(kind='bar')\n",
    "\n",
    "\n",
    "plt.title(\"PC games' sales by month\", size=14)\n",
    "plt.xticks(rotation=0)\n",
    "plt.ylabel('Amount of Sales')\n",
    "plt.show()\n",
    "\n",
    "music = train.loc[train['item_category_name']=='Music - locally produced CD']\n",
    "music.groupby('month')['item_cnt_day'].sum().reindex(mons).plot(kind='bar')\n",
    "\n",
    "plt.title(\"music-locally produced CD's sales by month\", size=14)\n",
    "plt.xticks(rotation=0)\n",
    "plt.ylabel('Amount of Sales')\n",
    "plt.show()\n"
   ]
  },
  {
   "cell_type": "markdown",
   "metadata": {
    "colab_type": "text",
    "id": "k8yL6uP40rg6"
   },
   "source": [
    ">Item categories with most sales are: Movie(DVD), PCgames(standard editions), Music(loccally produced CD) <br/>\n",
    ">All of them have roughly even distribution over the 12 months. So they are not affected much by the holidays."
   ]
  },
  {
   "cell_type": "markdown",
   "metadata": {
    "colab_type": "text",
    "id": "4tybjWhgtNOZ"
   },
   "source": [
    "###Shops with most revenue are: shop #31, #25, #28<br/>\n"
   ]
  },
  {
   "cell_type": "code",
   "execution_count": 336,
   "metadata": {
    "colab": {
     "base_uri": "https://localhost:8080/",
     "height": 297
    },
    "colab_type": "code",
    "id": "OaEbif6L_QF7",
    "outputId": "2317a4bb-7e0a-4bbd-b9ce-48c79451ef24"
   },
   "outputs": [
    {
     "data": {
      "image/png": "[encoded data removed]",
      "text/plain": [
       "<Figure size 432x288 with 1 Axes>"
      ]
     },
     "metadata": {
      "needs_background": "light",
      "tags": []
     },
     "output_type": "display_data"
    }
   ],
   "source": [
    "train.groupby('shop_id')['revenue'].sum().nlargest(3).plot(kind='bar')\n",
    "\n",
    "plt.title(\"Shops with most revenue \", size=14)\n",
    "plt.xticks(rotation=0)\n",
    "plt.ylabel('Revenue')\n",
    "plt.show()"
   ]
  },
  {
   "cell_type": "code",
   "execution_count": 337,
   "metadata": {
    "colab": {
     "base_uri": "https://localhost:8080/",
     "height": 854
    },
    "colab_type": "code",
    "id": "1-jRokxkFaVP",
    "outputId": "e1aca9e4-1483-4bfe-f6a9-628323971ad0"
   },
   "outputs": [
    {
     "data": {
      "image/png": "[encoded data removed]",
      "text/plain": [
       "<Figure size 432x288 with 1 Axes>"
      ]
     },
     "metadata": {
      "needs_background": "light",
      "tags": []
     },
     "output_type": "display_data"
    },
    {
     "data": {
      "image/png": "[encoded data removed]",
      "text/plain": [
       "<Figure size 432x288 with 1 Axes>"
      ]
     },
     "metadata": {
      "needs_background": "light",
      "tags": []
     },
     "output_type": "display_data"
    },
    {
     "data": {
      "image/png": "[encoded data removed]",
      "text/plain": [
       "<Figure size 432x288 with 1 Axes>"
      ]
     },
     "metadata": {
      "needs_background": "light",
      "tags": []
     },
     "output_type": "display_data"
    }
   ],
   "source": [
    "fig = plt.figure()\n",
    "\n",
    "#plt.subplot(1,3,1)\n",
    "shop31 = train.loc[train['shop_id']==31]\n",
    "shop31.groupby('month')['revenue'].sum().reindex(mons).plot()\n",
    "\n",
    "plt.title(\"shop31's revenue by month\", size=14)\n",
    "plt.xticks(rotation=0)\n",
    "plt.ylabel('Revenue')\n",
    "plt.show()\n",
    "\n",
    "#plt.subplot(1,3, 2)\n",
    "shop25 = train.loc[train['shop_id']==25]\n",
    "shop25.groupby('month')['revenue'].sum().reindex(mons).plot()\n",
    "\n",
    "plt.title(\"shop25's revenue by month\", size=14)\n",
    "plt.xticks(rotation=0)\n",
    "plt.ylabel('Revenue')\n",
    "plt.show()\n",
    "\n",
    "#plt.subplot(1,3,3)\n",
    "shop28 = train.loc[train['shop_id']==28]\n",
    "shop28.groupby('month')['revenue'].sum().reindex(mons).plot()\n",
    "\n",
    "plt.title(\"shop28's revenue by month\", size=14)\n",
    "plt.xticks(rotation=0)\n",
    "plt.ylabel('Revenue')\n",
    "plt.show()\n"
   ]
  },
  {
   "cell_type": "markdown",
   "metadata": {
    "colab_type": "text",
    "id": "TzpFKH4J0zPv"
   },
   "source": [
    ">The highest revenue are around 2.5-3+e7 in December, while the lowset revenue are around 1.2+e7. The revenue raised a lot in December because of the Christmas, but other time are evenly distributed."
   ]
  },
  {
   "cell_type": "markdown",
   "metadata": {
    "colab_type": "text",
    "id": "d63OhxIBU8uW"
   },
   "source": [
    "## Part 4 - Analyze Price Change"
   ]
  },
  {
   "cell_type": "code",
   "execution_count": 338,
   "metadata": {
    "colab": {
     "base_uri": "https://localhost:8080/",
     "height": 35
    },
    "colab_type": "code",
    "id": "MmwrguDIwvkt",
    "outputId": "08a1242a-c134-4f28-a7c2-57a5b43d993a"
   },
   "outputs": [
    {
     "name": "stdout",
     "output_type": "stream",
     "text": [
      "train: (1221488, 14)\n"
     ]
    }
   ],
   "source": [
    "# drop shops & items not in test data\n",
    "test_shops = test.shop_id.unique()\n",
    "test_items = test.item_id.unique()\n",
    "train = train[train.shop_id.isin(test_shops)]\n",
    "train = train[train.item_id.isin(test_items)]\n",
    "train2 = copy.deepcopy(train)\n",
    "\n",
    "print('train:', train.shape)"
   ]
  },
  {
   "cell_type": "code",
   "execution_count": 215,
   "metadata": {
    "colab": {},
    "colab_type": "code",
    "id": "sC_shIKKEtde"
   },
   "outputs": [],
   "source": [
    "last_price=train.groupby(['date_block_num','shop_id','item_id'])[['item_price']].mean().reset_index().rename(columns={'item_price':'last_price'})\n",
    "last_price.date_block_num=last_price.date_block_num+1\n",
    "train01=train.merge(last_price,on=['shop_id','item_id','date_block_num'])"
   ]
  },
  {
   "cell_type": "code",
   "execution_count": 71,
   "metadata": {
    "colab": {
     "base_uri": "https://localhost:8080/",
     "height": 194
    },
    "colab_type": "code",
    "id": "M1mpwNhZda-Y",
    "outputId": "b3c9787c-7d6e-41b9-e6fd-dee6819a304a"
   },
   "outputs": [
    {
     "data": {
      "text/html": [
       "<div>\n",
       "<style scoped>\n",
       "    .dataframe tbody tr th:only-of-type {\n",
       "        vertical-align: middle;\n",
       "    }\n",
       "\n",
       "    .dataframe tbody tr th {\n",
       "        vertical-align: top;\n",
       "    }\n",
       "\n",
       "    .dataframe thead th {\n",
       "        text-align: right;\n",
       "    }\n",
       "</style>\n",
       "<table border=\"1\" class=\"dataframe\">\n",
       "  <thead>\n",
       "    <tr style=\"text-align: right;\">\n",
       "      <th></th>\n",
       "      <th>date</th>\n",
       "      <th>weekday</th>\n",
       "      <th>month</th>\n",
       "      <th>date_block_num</th>\n",
       "      <th>shop_id</th>\n",
       "      <th>item_id</th>\n",
       "      <th>item_price</th>\n",
       "      <th>item_cnt_day</th>\n",
       "      <th>item_name</th>\n",
       "      <th>item_category_id</th>\n",
       "      <th>shop_name</th>\n",
       "      <th>year</th>\n",
       "      <th>revenue</th>\n",
       "      <th>item_category_name</th>\n",
       "      <th>last_price</th>\n",
       "    </tr>\n",
       "  </thead>\n",
       "  <tbody>\n",
       "    <tr>\n",
       "      <th>0</th>\n",
       "      <td>02/02/2013</td>\n",
       "      <td>Saturday</td>\n",
       "      <td>02</td>\n",
       "      <td>1</td>\n",
       "      <td>50</td>\n",
       "      <td>3851</td>\n",
       "      <td>899.0</td>\n",
       "      <td>1.0</td>\n",
       "      <td>Heavy Rain (Essentials) (с поддержкой PS Move)...</td>\n",
       "      <td>19</td>\n",
       "      <td>Тюмень ТЦ \"Гудвин\"</td>\n",
       "      <td>2013</td>\n",
       "      <td>899.0</td>\n",
       "      <td>Games - PS3</td>\n",
       "      <td>899.0</td>\n",
       "    </tr>\n",
       "    <tr>\n",
       "      <th>1</th>\n",
       "      <td>14/02/2013</td>\n",
       "      <td>Thursday</td>\n",
       "      <td>02</td>\n",
       "      <td>1</td>\n",
       "      <td>50</td>\n",
       "      <td>3851</td>\n",
       "      <td>899.0</td>\n",
       "      <td>1.0</td>\n",
       "      <td>Heavy Rain (Essentials) (с поддержкой PS Move)...</td>\n",
       "      <td>19</td>\n",
       "      <td>Тюмень ТЦ \"Гудвин\"</td>\n",
       "      <td>2013</td>\n",
       "      <td>899.0</td>\n",
       "      <td>Games - PS3</td>\n",
       "      <td>899.0</td>\n",
       "    </tr>\n",
       "    <tr>\n",
       "      <th>2</th>\n",
       "      <td>27/02/2013</td>\n",
       "      <td>Wednesday</td>\n",
       "      <td>02</td>\n",
       "      <td>1</td>\n",
       "      <td>50</td>\n",
       "      <td>3851</td>\n",
       "      <td>899.0</td>\n",
       "      <td>1.0</td>\n",
       "      <td>Heavy Rain (Essentials) (с поддержкой PS Move)...</td>\n",
       "      <td>19</td>\n",
       "      <td>Тюмень ТЦ \"Гудвин\"</td>\n",
       "      <td>2013</td>\n",
       "      <td>899.0</td>\n",
       "      <td>Games - PS3</td>\n",
       "      <td>899.0</td>\n",
       "    </tr>\n",
       "    <tr>\n",
       "      <th>3</th>\n",
       "      <td>02/07/2013</td>\n",
       "      <td>Thursday</td>\n",
       "      <td>07</td>\n",
       "      <td>1</td>\n",
       "      <td>50</td>\n",
       "      <td>3871</td>\n",
       "      <td>2499.0</td>\n",
       "      <td>1.0</td>\n",
       "      <td>Hitman Absolution [Xbox 360, русская версия]</td>\n",
       "      <td>23</td>\n",
       "      <td>Тюмень ТЦ \"Гудвин\"</td>\n",
       "      <td>2013</td>\n",
       "      <td>2499.0</td>\n",
       "      <td>Games - XBOX 360</td>\n",
       "      <td>2499.0</td>\n",
       "    </tr>\n",
       "    <tr>\n",
       "      <th>4</th>\n",
       "      <td>02/11/2013</td>\n",
       "      <td>Monday</td>\n",
       "      <td>11</td>\n",
       "      <td>1</td>\n",
       "      <td>50</td>\n",
       "      <td>3871</td>\n",
       "      <td>2499.0</td>\n",
       "      <td>1.0</td>\n",
       "      <td>Hitman Absolution [Xbox 360, русская версия]</td>\n",
       "      <td>23</td>\n",
       "      <td>Тюмень ТЦ \"Гудвин\"</td>\n",
       "      <td>2013</td>\n",
       "      <td>2499.0</td>\n",
       "      <td>Games - XBOX 360</td>\n",
       "      <td>2499.0</td>\n",
       "    </tr>\n",
       "  </tbody>\n",
       "</table>\n",
       "</div>"
      ],
      "text/plain": [
       "         date    weekday month  ...  revenue  item_category_name  last_price\n",
       "0  02/02/2013   Saturday    02  ...    899.0         Games - PS3       899.0\n",
       "1  14/02/2013   Thursday    02  ...    899.0         Games - PS3       899.0\n",
       "2  27/02/2013  Wednesday    02  ...    899.0         Games - PS3       899.0\n",
       "3  02/07/2013   Thursday    07  ...   2499.0    Games - XBOX 360      2499.0\n",
       "4  02/11/2013     Monday    11  ...   2499.0    Games - XBOX 360      2499.0\n",
       "\n",
       "[5 rows x 15 columns]"
      ]
     },
     "execution_count": 71,
     "metadata": {
      "tags": []
     },
     "output_type": "execute_result"
    }
   ],
   "source": [
    "train01.head()"
   ]
  },
  {
   "cell_type": "code",
   "execution_count": 212,
   "metadata": {
    "colab": {},
    "colab_type": "code",
    "id": "VnwcrFyDdg6z"
   },
   "outputs": [],
   "source": [
    "train1 = copy.deepcopy(train)"
   ]
  },
  {
   "cell_type": "code",
   "execution_count": 216,
   "metadata": {
    "colab": {
     "base_uri": "https://localhost:8080/",
     "height": 106
    },
    "colab_type": "code",
    "id": "yhOg_yVAEtdf",
    "outputId": "feb3af30-083c-4e73-b106-5201c90af807"
   },
   "outputs": [
    {
     "data": {
      "text/html": [
       "<div>\n",
       "<style scoped>\n",
       "    .dataframe tbody tr th:only-of-type {\n",
       "        vertical-align: middle;\n",
       "    }\n",
       "\n",
       "    .dataframe tbody tr th {\n",
       "        vertical-align: top;\n",
       "    }\n",
       "\n",
       "    .dataframe thead th {\n",
       "        text-align: right;\n",
       "    }\n",
       "</style>\n",
       "<table border=\"1\" class=\"dataframe\">\n",
       "  <thead>\n",
       "    <tr style=\"text-align: right;\">\n",
       "      <th></th>\n",
       "      <th>date</th>\n",
       "      <th>weekday</th>\n",
       "      <th>month</th>\n",
       "      <th>date_block_num</th>\n",
       "      <th>shop_id</th>\n",
       "      <th>item_id</th>\n",
       "      <th>item_price</th>\n",
       "      <th>item_cnt_day</th>\n",
       "      <th>item_name</th>\n",
       "      <th>item_category_id</th>\n",
       "      <th>shop_name</th>\n",
       "      <th>year</th>\n",
       "      <th>revenue</th>\n",
       "      <th>item_category_name</th>\n",
       "      <th>last_price_x</th>\n",
       "      <th>last_price_y</th>\n",
       "      <th>last_price</th>\n",
       "      <th>price_change</th>\n",
       "    </tr>\n",
       "  </thead>\n",
       "  <tbody>\n",
       "    <tr>\n",
       "      <th>0</th>\n",
       "      <td>04/06/2013</td>\n",
       "      <td>Saturday</td>\n",
       "      <td>06</td>\n",
       "      <td>3</td>\n",
       "      <td>25</td>\n",
       "      <td>8093</td>\n",
       "      <td>1399.0</td>\n",
       "      <td>1.0</td>\n",
       "      <td>АВАТАР (3D BD+BD+DVD)</td>\n",
       "      <td>38</td>\n",
       "      <td>Москва ТРК \"Атриум\"</td>\n",
       "      <td>2013</td>\n",
       "      <td>1399.0</td>\n",
       "      <td>Cinema - Blu-Ray 3D</td>\n",
       "      <td>1381.414286</td>\n",
       "      <td>1381.414286</td>\n",
       "      <td>1381.414286</td>\n",
       "      <td>0.01273</td>\n",
       "    </tr>\n",
       "    <tr>\n",
       "      <th>1</th>\n",
       "      <td>04/04/2013</td>\n",
       "      <td>Thursday</td>\n",
       "      <td>04</td>\n",
       "      <td>3</td>\n",
       "      <td>25</td>\n",
       "      <td>8093</td>\n",
       "      <td>1399.0</td>\n",
       "      <td>1.0</td>\n",
       "      <td>АВАТАР (3D BD+BD+DVD)</td>\n",
       "      <td>38</td>\n",
       "      <td>Москва ТРК \"Атриум\"</td>\n",
       "      <td>2013</td>\n",
       "      <td>1399.0</td>\n",
       "      <td>Cinema - Blu-Ray 3D</td>\n",
       "      <td>1381.414286</td>\n",
       "      <td>1381.414286</td>\n",
       "      <td>1381.414286</td>\n",
       "      <td>0.01273</td>\n",
       "    </tr>\n",
       "  </tbody>\n",
       "</table>\n",
       "</div>"
      ],
      "text/plain": [
       "         date   weekday month  ...  last_price_y   last_price  price_change\n",
       "0  04/06/2013  Saturday    06  ...   1381.414286  1381.414286       0.01273\n",
       "1  04/04/2013  Thursday    04  ...   1381.414286  1381.414286       0.01273\n",
       "\n",
       "[2 rows x 18 columns]"
      ]
     },
     "execution_count": 216,
     "metadata": {
      "tags": []
     },
     "output_type": "execute_result"
    }
   ],
   "source": [
    "train01['price_change']=train01['item_price']/train01['last_price']-1\n",
    "train01.head(2)"
   ]
  },
  {
   "cell_type": "code",
   "execution_count": 217,
   "metadata": {
    "colab": {},
    "colab_type": "code",
    "id": "sPZNk_j8Etdi"
   },
   "outputs": [],
   "source": [
    "train01=train01.dropna()"
   ]
  },
  {
   "cell_type": "code",
   "execution_count": 218,
   "metadata": {
    "colab": {
     "base_uri": "https://localhost:8080/",
     "height": 194
    },
    "colab_type": "code",
    "id": "iwZlf4oAEtdk",
    "outputId": "5b2362b3-bec8-4120-fab9-43ee16af609c"
   },
   "outputs": [
    {
     "data": {
      "text/html": [
       "<div>\n",
       "<style scoped>\n",
       "    .dataframe tbody tr th:only-of-type {\n",
       "        vertical-align: middle;\n",
       "    }\n",
       "\n",
       "    .dataframe tbody tr th {\n",
       "        vertical-align: top;\n",
       "    }\n",
       "\n",
       "    .dataframe thead th {\n",
       "        text-align: right;\n",
       "    }\n",
       "</style>\n",
       "<table border=\"1\" class=\"dataframe\">\n",
       "  <thead>\n",
       "    <tr style=\"text-align: right;\">\n",
       "      <th></th>\n",
       "      <th>date_block_num</th>\n",
       "      <th>shop_id</th>\n",
       "      <th>item_id</th>\n",
       "      <th>price_change</th>\n",
       "    </tr>\n",
       "  </thead>\n",
       "  <tbody>\n",
       "    <tr>\n",
       "      <th>0</th>\n",
       "      <td>3</td>\n",
       "      <td>2</td>\n",
       "      <td>482</td>\n",
       "      <td>0.000000</td>\n",
       "    </tr>\n",
       "    <tr>\n",
       "      <th>1</th>\n",
       "      <td>3</td>\n",
       "      <td>2</td>\n",
       "      <td>1916</td>\n",
       "      <td>0.000000</td>\n",
       "    </tr>\n",
       "    <tr>\n",
       "      <th>2</th>\n",
       "      <td>3</td>\n",
       "      <td>2</td>\n",
       "      <td>2252</td>\n",
       "      <td>0.000000</td>\n",
       "    </tr>\n",
       "    <tr>\n",
       "      <th>3</th>\n",
       "      <td>3</td>\n",
       "      <td>2</td>\n",
       "      <td>2308</td>\n",
       "      <td>-0.078524</td>\n",
       "    </tr>\n",
       "    <tr>\n",
       "      <th>4</th>\n",
       "      <td>3</td>\n",
       "      <td>2</td>\n",
       "      <td>2678</td>\n",
       "      <td>0.000000</td>\n",
       "    </tr>\n",
       "  </tbody>\n",
       "</table>\n",
       "</div>"
      ],
      "text/plain": [
       "   date_block_num  shop_id  item_id  price_change\n",
       "0               3        2      482      0.000000\n",
       "1               3        2     1916      0.000000\n",
       "2               3        2     2252      0.000000\n",
       "3               3        2     2308     -0.078524\n",
       "4               3        2     2678      0.000000"
      ]
     },
     "execution_count": 218,
     "metadata": {
      "tags": []
     },
     "output_type": "execute_result"
    }
   ],
   "source": [
    "price_change=train01.groupby(['date_block_num','shop_id','item_id'])[['price_change']].mean().reset_index()\n",
    "price_change.head()"
   ]
  },
  {
   "cell_type": "code",
   "execution_count": 219,
   "metadata": {
    "colab": {},
    "colab_type": "code",
    "id": "Zzp7kVbAEtdn"
   },
   "outputs": [],
   "source": [
    "sale_num=train01.groupby(['date_block_num','shop_id','item_id'])[['item_cnt_day']].sum().reset_index()"
   ]
  },
  {
   "cell_type": "markdown",
   "metadata": {
    "colab_type": "text",
    "id": "JCwz8YFWEtdo"
   },
   "source": [
    "###Assume that the price change will affect the sales in a month's time："
   ]
  },
  {
   "cell_type": "code",
   "execution_count": 220,
   "metadata": {
    "colab": {},
    "colab_type": "code",
    "id": "Q9bLY7TnEtdp"
   },
   "outputs": [],
   "source": [
    "# for i in range(1,13):\n",
    "sale_num.date_block_num=sale_num.date_block_num-1\n",
    "merge_df=price_change.merge(sale_num,on=['date_block_num','shop_id','item_id'])\n",
    "corr=merge_df.groupby('date_block_num').apply(lambda x:x[['price_change','item_cnt_day']].corr().iloc[0,1])"
   ]
  },
  {
   "cell_type": "code",
   "execution_count": 221,
   "metadata": {
    "colab": {
     "base_uri": "https://localhost:8080/",
     "height": 299
    },
    "colab_type": "code",
    "id": "sDssmTe3Etdq",
    "outputId": "d884d6d8-c107-427d-aa6b-83d1794db829"
   },
   "outputs": [
    {
     "data": {
      "text/plain": [
       "<matplotlib.axes._subplots.AxesSubplot at 0x7f7fff640160>"
      ]
     },
     "execution_count": 221,
     "metadata": {
      "tags": []
     },
     "output_type": "execute_result"
    },
    {
     "data": {
      "image/png": "[encoded data removed]",
      "text/plain": [
       "<Figure size 432x288 with 1 Axes>"
      ]
     },
     "metadata": {
      "needs_background": "light",
      "tags": []
     },
     "output_type": "display_data"
    }
   ],
   "source": [
    "corr.plot()"
   ]
  },
  {
   "cell_type": "markdown",
   "metadata": {
    "colab_type": "text",
    "id": "3BSxCzo1Etds"
   },
   "source": [
    "We can see that, the next month's sales do not have linear relations with the price change. Thus the price change does not affect sales much."
   ]
  },
  {
   "cell_type": "markdown",
   "metadata": {
    "colab_type": "text",
    "id": "Dk9CEpUGOEHd"
   },
   "source": [
    "### Plots for the items that have the most price change: "
   ]
  },
  {
   "cell_type": "code",
   "execution_count": 222,
   "metadata": {
    "colab": {
     "base_uri": "https://localhost:8080/",
     "height": 35
    },
    "colab_type": "code",
    "id": "EYnYN134Sc9u",
    "outputId": "c4eb1bc5-31fc-4be7-aaf9-581dacd41977"
   },
   "outputs": [
    {
     "name": "stdout",
     "output_type": "stream",
     "text": [
      " "
     ]
    }
   ],
   "source": [
    "item_check = train1\n",
    "item_check['date'] =pd.to_datetime(item_check.date)\n",
    "item_check['price_change']=0\n",
    "\n",
    "def groupfunc(group):\n",
    "    if group['shop_id'].count()>1: # only for those have multiple sale records\n",
    "        group.sort_values(['date'],inplace=True)\n",
    "        initial_price = group['item_price'].head(1)\n",
    "        group['price_change'] = group['item_price'].apply(lambda x:x-initial_price)\n",
    "    return group\n",
    "\n",
    "%prun item_check = item_check.groupby(['shop_id','item_id']).apply(groupfunc)"
   ]
  },
  {
   "cell_type": "code",
   "execution_count": 223,
   "metadata": {
    "colab": {
     "base_uri": "https://localhost:8080/",
     "height": 248
    },
    "colab_type": "code",
    "id": "TVM6dhPA2iTD",
    "outputId": "6a253993-bb8d-405a-9bc0-075fb659fb5f"
   },
   "outputs": [
    {
     "name": "stdout",
     "output_type": "stream",
     "text": [
      "count   527979.00\n",
      "mean       -68.13\n",
      "std        576.62\n",
      "min     -10098.00\n",
      "20%          0.00\n",
      "40%          0.00\n",
      "50%          0.00\n",
      "60%          0.00\n",
      "80%          0.00\n",
      "95%        391.00\n",
      "99.9%     2363.37\n",
      "max      57470.00\n",
      "Name: price_change, dtype: float64\n"
     ]
    }
   ],
   "source": [
    "check0 = copy.deepcopy(item_check)\n",
    "item_check = item_check.sort_values(by=['price_change'])\n",
    "\n",
    "with pd.option_context('float_format', '{:.2f}'.format):\n",
    "  print(item_check.describe(percentiles = perc).price_change)"
   ]
  },
  {
   "cell_type": "code",
   "execution_count": 224,
   "metadata": {
    "colab": {
     "base_uri": "https://localhost:8080/",
     "height": 135
    },
    "colab_type": "code",
    "id": "CWhK05VwBh9C",
    "outputId": "c8083710-00ec-41c8-ee29-6bb13d753150"
   },
   "outputs": [
    {
     "data": {
      "text/html": [
       "<div>\n",
       "<style scoped>\n",
       "    .dataframe tbody tr th:only-of-type {\n",
       "        vertical-align: middle;\n",
       "    }\n",
       "\n",
       "    .dataframe tbody tr th {\n",
       "        vertical-align: top;\n",
       "    }\n",
       "\n",
       "    .dataframe thead th {\n",
       "        text-align: right;\n",
       "    }\n",
       "</style>\n",
       "<table border=\"1\" class=\"dataframe\">\n",
       "  <thead>\n",
       "    <tr style=\"text-align: right;\">\n",
       "      <th></th>\n",
       "      <th></th>\n",
       "      <th></th>\n",
       "      <th>date</th>\n",
       "      <th>weekday</th>\n",
       "      <th>month</th>\n",
       "      <th>date_block_num</th>\n",
       "      <th>shop_id</th>\n",
       "      <th>item_id</th>\n",
       "      <th>item_price</th>\n",
       "      <th>item_cnt_day</th>\n",
       "      <th>item_name</th>\n",
       "      <th>item_category_id</th>\n",
       "      <th>shop_name</th>\n",
       "      <th>year</th>\n",
       "      <th>revenue</th>\n",
       "      <th>item_category_name</th>\n",
       "      <th>last_price_x</th>\n",
       "      <th>last_price_y</th>\n",
       "      <th>price_change</th>\n",
       "    </tr>\n",
       "    <tr>\n",
       "      <th>shop_id</th>\n",
       "      <th>item_id</th>\n",
       "      <th></th>\n",
       "      <th></th>\n",
       "      <th></th>\n",
       "      <th></th>\n",
       "      <th></th>\n",
       "      <th></th>\n",
       "      <th></th>\n",
       "      <th></th>\n",
       "      <th></th>\n",
       "      <th></th>\n",
       "      <th></th>\n",
       "      <th></th>\n",
       "      <th></th>\n",
       "      <th></th>\n",
       "      <th></th>\n",
       "      <th></th>\n",
       "      <th></th>\n",
       "      <th></th>\n",
       "    </tr>\n",
       "  </thead>\n",
       "  <tbody>\n",
       "    <tr>\n",
       "      <th>24</th>\n",
       "      <th>17717</th>\n",
       "      <th>234145</th>\n",
       "      <td>2014-07-29</td>\n",
       "      <td>Tuesday</td>\n",
       "      <td>07</td>\n",
       "      <td>18</td>\n",
       "      <td>24</td>\n",
       "      <td>17717</td>\n",
       "      <td>16790.0</td>\n",
       "      <td>1.0</td>\n",
       "      <td>Прием денежных средств для 1С-Онлайн</td>\n",
       "      <td>79</td>\n",
       "      <td>Москва ТК \"Буденовский\" (пав.К7)</td>\n",
       "      <td>2014</td>\n",
       "      <td>16790.0</td>\n",
       "      <td>Service</td>\n",
       "      <td>1632.200000</td>\n",
       "      <td>1632.200000</td>\n",
       "      <td>16591.0</td>\n",
       "    </tr>\n",
       "    <tr>\n",
       "      <th>12</th>\n",
       "      <th>11365</th>\n",
       "      <th>66854</th>\n",
       "      <td>2013-09-17</td>\n",
       "      <td>Tuesday</td>\n",
       "      <td>09</td>\n",
       "      <td>8</td>\n",
       "      <td>12</td>\n",
       "      <td>11365</td>\n",
       "      <td>59200.0</td>\n",
       "      <td>1.0</td>\n",
       "      <td>Доставка (EMS)</td>\n",
       "      <td>9</td>\n",
       "      <td>Интернет-магазин ЧС</td>\n",
       "      <td>2013</td>\n",
       "      <td>59200.0</td>\n",
       "      <td>Delivery of goods</td>\n",
       "      <td>3072.361111</td>\n",
       "      <td>3072.361111</td>\n",
       "      <td>57470.0</td>\n",
       "    </tr>\n",
       "  </tbody>\n",
       "</table>\n",
       "</div>"
      ],
      "text/plain": [
       "                             date  weekday  ... last_price_y  price_change\n",
       "shop_id item_id                             ...                           \n",
       "24      17717   234145 2014-07-29  Tuesday  ...  1632.200000       16591.0\n",
       "12      11365   66854  2013-09-17  Tuesday  ...  3072.361111       57470.0\n",
       "\n",
       "[2 rows x 17 columns]"
      ]
     },
     "execution_count": 224,
     "metadata": {
      "tags": []
     },
     "output_type": "execute_result"
    }
   ],
   "source": [
    "price_decrese_max = item_check.tail(2)\n",
    "price_decrese_max"
   ]
  },
  {
   "cell_type": "code",
   "execution_count": 225,
   "metadata": {
    "colab": {
     "base_uri": "https://localhost:8080/",
     "height": 300
    },
    "colab_type": "code",
    "id": "7X2EYS2KBqCU",
    "outputId": "0bd48db4-7c4d-489f-dbb5-f74d6afd0234"
   },
   "outputs": [
    {
     "data": {
      "image/png": "[encoded data removed]",
      "text/plain": [
       "<Figure size 432x288 with 2 Axes>"
      ]
     },
     "metadata": {
      "needs_background": "light",
      "tags": []
     },
     "output_type": "display_data"
    }
   ],
   "source": [
    "item2 = item_check[(item_check['item_id']==11365) & (item_check['shop_id']==12)]\n",
    "\n",
    "ax1 = item2.groupby('date_block_num')['item_price'].mean().plot(secondary_y=True,marker = 'o',color='orange')\n",
    "ax2 = item2.groupby('date_block_num')['item_cnt_day'].sum().plot(kind='bar')\n",
    "\n",
    "ax2.set_title(\"Price Change of item#11365\", size=14)\n",
    "ax1.set_ylabel(\"Price\")\n",
    "ax2.set_ylabel('Count')\n",
    "plt.show()"
   ]
  },
  {
   "cell_type": "markdown",
   "metadata": {
    "colab_type": "text",
    "id": "ZZ6zVG0dvu15"
   },
   "source": [
    ">Item with the most price change does not have strong relation to its sales."
   ]
  },
  {
   "cell_type": "markdown",
   "metadata": {
    "colab_type": "text",
    "id": "d8u073UXQCA5"
   },
   "source": [
    "## Part 5 - Analyze Item Release Time"
   ]
  },
  {
   "cell_type": "code",
   "execution_count": null,
   "metadata": {
    "colab": {},
    "colab_type": "code",
    "id": "0tpsRyTCU8ua"
   },
   "outputs": [],
   "source": [
    "# TODO: code to analyze time since item is released"
   ]
  },
  {
   "cell_type": "markdown",
   "metadata": {
    "colab_type": "text",
    "id": "KWlCLQxPU8ud"
   },
   "source": [
    "Write your answer here"
   ]
  },
  {
   "cell_type": "code",
   "execution_count": 339,
   "metadata": {
    "colab": {
     "base_uri": "https://localhost:8080/",
     "height": 194
    },
    "colab_type": "code",
    "id": "48e_-rA17fBU",
    "outputId": "0b06b137-9d83-4085-fa9d-9035298cef4f"
   },
   "outputs": [
    {
     "data": {
      "text/html": [
       "<div>\n",
       "<style scoped>\n",
       "    .dataframe tbody tr th:only-of-type {\n",
       "        vertical-align: middle;\n",
       "    }\n",
       "\n",
       "    .dataframe tbody tr th {\n",
       "        vertical-align: top;\n",
       "    }\n",
       "\n",
       "    .dataframe thead th {\n",
       "        text-align: right;\n",
       "    }\n",
       "</style>\n",
       "<table border=\"1\" class=\"dataframe\">\n",
       "  <thead>\n",
       "    <tr style=\"text-align: right;\">\n",
       "      <th></th>\n",
       "      <th>item_id</th>\n",
       "      <th>shop_id</th>\n",
       "      <th>date_min_same</th>\n",
       "    </tr>\n",
       "  </thead>\n",
       "  <tbody>\n",
       "    <tr>\n",
       "      <th>0</th>\n",
       "      <td>30</td>\n",
       "      <td>2</td>\n",
       "      <td>03/01/2013</td>\n",
       "    </tr>\n",
       "    <tr>\n",
       "      <th>1</th>\n",
       "      <td>30</td>\n",
       "      <td>3</td>\n",
       "      <td>03/08/2013</td>\n",
       "    </tr>\n",
       "    <tr>\n",
       "      <th>2</th>\n",
       "      <td>30</td>\n",
       "      <td>4</td>\n",
       "      <td>03/02/2013</td>\n",
       "    </tr>\n",
       "    <tr>\n",
       "      <th>3</th>\n",
       "      <td>30</td>\n",
       "      <td>5</td>\n",
       "      <td>03/03/2013</td>\n",
       "    </tr>\n",
       "    <tr>\n",
       "      <th>4</th>\n",
       "      <td>30</td>\n",
       "      <td>6</td>\n",
       "      <td>01/06/2015</td>\n",
       "    </tr>\n",
       "  </tbody>\n",
       "</table>\n",
       "</div>"
      ],
      "text/plain": [
       "   item_id  shop_id date_min_same\n",
       "0       30        2    03/01/2013\n",
       "1       30        3    03/08/2013\n",
       "2       30        4    03/02/2013\n",
       "3       30        5    03/03/2013\n",
       "4       30        6    01/06/2015"
      ]
     },
     "execution_count": 339,
     "metadata": {
      "tags": []
     },
     "output_type": "execute_result"
    }
   ],
   "source": [
    "subet_date = train[['date','shop_id','item_id']]\n",
    "df = subet_date.groupby(['item_id','shop_id']).min().reset_index().rename(columns={\"date\":\"date_min_same\"})\n",
    "df_merge = pd.merge(df,df,on='item_id')\n",
    "df.head()"
   ]
  },
  {
   "cell_type": "code",
   "execution_count": 340,
   "metadata": {
    "colab": {
     "base_uri": "https://localhost:8080/",
     "height": 399
    },
    "colab_type": "code",
    "id": "jCPW3RW98ADY",
    "outputId": "3a15eb5f-534f-4285-8426-b850006aa71c"
   },
   "outputs": [
    {
     "data": {
      "text/html": [
       "<div>\n",
       "<style scoped>\n",
       "    .dataframe tbody tr th:only-of-type {\n",
       "        vertical-align: middle;\n",
       "    }\n",
       "\n",
       "    .dataframe tbody tr th {\n",
       "        vertical-align: top;\n",
       "    }\n",
       "\n",
       "    .dataframe thead th {\n",
       "        text-align: right;\n",
       "    }\n",
       "</style>\n",
       "<table border=\"1\" class=\"dataframe\">\n",
       "  <thead>\n",
       "    <tr style=\"text-align: right;\">\n",
       "      <th></th>\n",
       "      <th>item_id</th>\n",
       "      <th>shop_id</th>\n",
       "      <th>date_min_same</th>\n",
       "      <th>date_min_other</th>\n",
       "    </tr>\n",
       "  </thead>\n",
       "  <tbody>\n",
       "    <tr>\n",
       "      <th>0</th>\n",
       "      <td>30</td>\n",
       "      <td>2</td>\n",
       "      <td>03/01/2013</td>\n",
       "      <td>01/02/2014</td>\n",
       "    </tr>\n",
       "    <tr>\n",
       "      <th>1</th>\n",
       "      <td>30</td>\n",
       "      <td>3</td>\n",
       "      <td>03/08/2013</td>\n",
       "      <td>01/02/2014</td>\n",
       "    </tr>\n",
       "    <tr>\n",
       "      <th>2</th>\n",
       "      <td>30</td>\n",
       "      <td>4</td>\n",
       "      <td>03/02/2013</td>\n",
       "      <td>01/02/2014</td>\n",
       "    </tr>\n",
       "    <tr>\n",
       "      <th>3</th>\n",
       "      <td>30</td>\n",
       "      <td>5</td>\n",
       "      <td>03/03/2013</td>\n",
       "      <td>01/02/2014</td>\n",
       "    </tr>\n",
       "    <tr>\n",
       "      <th>4</th>\n",
       "      <td>30</td>\n",
       "      <td>6</td>\n",
       "      <td>01/06/2015</td>\n",
       "      <td>01/02/2014</td>\n",
       "    </tr>\n",
       "    <tr>\n",
       "      <th>...</th>\n",
       "      <td>...</td>\n",
       "      <td>...</td>\n",
       "      <td>...</td>\n",
       "      <td>...</td>\n",
       "    </tr>\n",
       "    <tr>\n",
       "      <th>111399</th>\n",
       "      <td>22167</td>\n",
       "      <td>53</td>\n",
       "      <td>10/04/2013</td>\n",
       "      <td>01/02/2014</td>\n",
       "    </tr>\n",
       "    <tr>\n",
       "      <th>111400</th>\n",
       "      <td>22167</td>\n",
       "      <td>56</td>\n",
       "      <td>05/01/2014</td>\n",
       "      <td>01/02/2014</td>\n",
       "    </tr>\n",
       "    <tr>\n",
       "      <th>111401</th>\n",
       "      <td>22167</td>\n",
       "      <td>57</td>\n",
       "      <td>01/10/2014</td>\n",
       "      <td>01/02/2014</td>\n",
       "    </tr>\n",
       "    <tr>\n",
       "      <th>111402</th>\n",
       "      <td>22167</td>\n",
       "      <td>58</td>\n",
       "      <td>03/03/2014</td>\n",
       "      <td>01/02/2014</td>\n",
       "    </tr>\n",
       "    <tr>\n",
       "      <th>111403</th>\n",
       "      <td>22167</td>\n",
       "      <td>59</td>\n",
       "      <td>12/03/2013</td>\n",
       "      <td>01/02/2014</td>\n",
       "    </tr>\n",
       "  </tbody>\n",
       "</table>\n",
       "<p>111404 rows × 4 columns</p>\n",
       "</div>"
      ],
      "text/plain": [
       "        item_id  shop_id date_min_same date_min_other\n",
       "0            30        2    03/01/2013     01/02/2014\n",
       "1            30        3    03/08/2013     01/02/2014\n",
       "2            30        4    03/02/2013     01/02/2014\n",
       "3            30        5    03/03/2013     01/02/2014\n",
       "4            30        6    01/06/2015     01/02/2014\n",
       "...         ...      ...           ...            ...\n",
       "111399    22167       53    10/04/2013     01/02/2014\n",
       "111400    22167       56    05/01/2014     01/02/2014\n",
       "111401    22167       57    01/10/2014     01/02/2014\n",
       "111402    22167       58    03/03/2014     01/02/2014\n",
       "111403    22167       59    12/03/2013     01/02/2014\n",
       "\n",
       "[111404 rows x 4 columns]"
      ]
     },
     "execution_count": 340,
     "metadata": {
      "tags": []
     },
     "output_type": "execute_result"
    }
   ],
   "source": [
    "df_other_shop = df_merge[df_merge['shop_id_x']!=df_merge['shop_id_y']]\n",
    "df_other_shop = df_other_shop[['item_id','shop_id_x','date_min_same_y']]\n",
    "df_date_other = df_other_shop.groupby(['item_id','shop_id_x']).min().reset_index()\n",
    "df_date_other.columns =['item_id','shop_id','date_min_other']\n",
    "df_release_date = pd.merge(df,df_date_other, on = ['item_id','shop_id'],how = 'left')\n",
    "df_release_date"
   ]
  },
  {
   "cell_type": "code",
   "execution_count": 342,
   "metadata": {
    "colab": {
     "base_uri": "https://localhost:8080/",
     "height": 194
    },
    "colab_type": "code",
    "id": "zokIchNN9SYh",
    "outputId": "c35b43b8-8909-45cd-dae6-e029e12c480a"
   },
   "outputs": [
    {
     "data": {
      "text/html": [
       "<div>\n",
       "<style scoped>\n",
       "    .dataframe tbody tr th:only-of-type {\n",
       "        vertical-align: middle;\n",
       "    }\n",
       "\n",
       "    .dataframe tbody tr th {\n",
       "        vertical-align: top;\n",
       "    }\n",
       "\n",
       "    .dataframe thead th {\n",
       "        text-align: right;\n",
       "    }\n",
       "</style>\n",
       "<table border=\"1\" class=\"dataframe\">\n",
       "  <thead>\n",
       "    <tr style=\"text-align: right;\">\n",
       "      <th></th>\n",
       "      <th>date</th>\n",
       "      <th>weekday</th>\n",
       "      <th>month</th>\n",
       "      <th>date_block_num</th>\n",
       "      <th>shop_id</th>\n",
       "      <th>item_id</th>\n",
       "      <th>item_price</th>\n",
       "      <th>item_cnt_day</th>\n",
       "      <th>item_name</th>\n",
       "      <th>item_category_id</th>\n",
       "      <th>shop_name</th>\n",
       "      <th>year</th>\n",
       "      <th>revenue</th>\n",
       "      <th>item_category_name</th>\n",
       "      <th>date_min_same</th>\n",
       "      <th>date_min_other</th>\n",
       "    </tr>\n",
       "  </thead>\n",
       "  <tbody>\n",
       "    <tr>\n",
       "      <th>0</th>\n",
       "      <td>01/02/2013</td>\n",
       "      <td>Wednesday</td>\n",
       "      <td>02</td>\n",
       "      <td>0</td>\n",
       "      <td>59</td>\n",
       "      <td>22154</td>\n",
       "      <td>999.0</td>\n",
       "      <td>1.0</td>\n",
       "      <td>ЯВЛЕНИЕ 2012 (BD)</td>\n",
       "      <td>37</td>\n",
       "      <td>Ярославль ТЦ \"Альтаир\"</td>\n",
       "      <td>2013</td>\n",
       "      <td>999.0</td>\n",
       "      <td>Cinema - Blu-Ray</td>\n",
       "      <td>01/02/2013</td>\n",
       "      <td>01/02/2013</td>\n",
       "    </tr>\n",
       "    <tr>\n",
       "      <th>1</th>\n",
       "      <td>01/03/2013</td>\n",
       "      <td>Thursday</td>\n",
       "      <td>03</td>\n",
       "      <td>0</td>\n",
       "      <td>25</td>\n",
       "      <td>2574</td>\n",
       "      <td>399.0</td>\n",
       "      <td>2.0</td>\n",
       "      <td>DEL REY LANA  Born To Die  The Paradise Editio...</td>\n",
       "      <td>55</td>\n",
       "      <td>Москва ТРК \"Атриум\"</td>\n",
       "      <td>2013</td>\n",
       "      <td>798.0</td>\n",
       "      <td>Music - locally produced CD</td>\n",
       "      <td>01/02/2015</td>\n",
       "      <td>01/01/2013</td>\n",
       "    </tr>\n",
       "    <tr>\n",
       "      <th>2</th>\n",
       "      <td>01/05/2013</td>\n",
       "      <td>Saturday</td>\n",
       "      <td>05</td>\n",
       "      <td>0</td>\n",
       "      <td>25</td>\n",
       "      <td>2574</td>\n",
       "      <td>399.0</td>\n",
       "      <td>1.0</td>\n",
       "      <td>DEL REY LANA  Born To Die  The Paradise Editio...</td>\n",
       "      <td>55</td>\n",
       "      <td>Москва ТРК \"Атриум\"</td>\n",
       "      <td>2013</td>\n",
       "      <td>399.0</td>\n",
       "      <td>Music - locally produced CD</td>\n",
       "      <td>01/02/2015</td>\n",
       "      <td>01/01/2013</td>\n",
       "    </tr>\n",
       "    <tr>\n",
       "      <th>3</th>\n",
       "      <td>01/07/2013</td>\n",
       "      <td>Monday</td>\n",
       "      <td>07</td>\n",
       "      <td>0</td>\n",
       "      <td>25</td>\n",
       "      <td>2574</td>\n",
       "      <td>399.0</td>\n",
       "      <td>1.0</td>\n",
       "      <td>DEL REY LANA  Born To Die  The Paradise Editio...</td>\n",
       "      <td>55</td>\n",
       "      <td>Москва ТРК \"Атриум\"</td>\n",
       "      <td>2013</td>\n",
       "      <td>399.0</td>\n",
       "      <td>Music - locally produced CD</td>\n",
       "      <td>01/02/2015</td>\n",
       "      <td>01/01/2013</td>\n",
       "    </tr>\n",
       "    <tr>\n",
       "      <th>4</th>\n",
       "      <td>01/08/2013</td>\n",
       "      <td>Tuesday</td>\n",
       "      <td>08</td>\n",
       "      <td>0</td>\n",
       "      <td>25</td>\n",
       "      <td>2574</td>\n",
       "      <td>399.0</td>\n",
       "      <td>2.0</td>\n",
       "      <td>DEL REY LANA  Born To Die  The Paradise Editio...</td>\n",
       "      <td>55</td>\n",
       "      <td>Москва ТРК \"Атриум\"</td>\n",
       "      <td>2013</td>\n",
       "      <td>798.0</td>\n",
       "      <td>Music - locally produced CD</td>\n",
       "      <td>01/02/2015</td>\n",
       "      <td>01/01/2013</td>\n",
       "    </tr>\n",
       "  </tbody>\n",
       "</table>\n",
       "</div>"
      ],
      "text/plain": [
       "         date    weekday  ... date_min_same  date_min_other\n",
       "0  01/02/2013  Wednesday  ...    01/02/2013      01/02/2013\n",
       "1  01/03/2013   Thursday  ...    01/02/2015      01/01/2013\n",
       "2  01/05/2013   Saturday  ...    01/02/2015      01/01/2013\n",
       "3  01/07/2013     Monday  ...    01/02/2015      01/01/2013\n",
       "4  01/08/2013    Tuesday  ...    01/02/2015      01/01/2013\n",
       "\n",
       "[5 rows x 16 columns]"
      ]
     },
     "execution_count": 342,
     "metadata": {
      "tags": []
     },
     "output_type": "execute_result"
    }
   ],
   "source": [
    "days_diff = pd.merge(train,df_release_date,on=['item_id','shop_id']).dropna()\n",
    "days_diff.head()"
   ]
  },
  {
   "cell_type": "code",
   "execution_count": null,
   "metadata": {
    "colab": {},
    "colab_type": "code",
    "id": "URKZF84591No"
   },
   "outputs": [],
   "source": [
    "days_diff['date'] =pd.to_datetime(days_diff.date)\n",
    "days_diff['date_min_same'] =pd.to_datetime(days_diff.date_min_same)\n",
    "days_diff['date_min_other'] =pd.to_datetime(days_diff.date_min_other)\n",
    "days_diff['days_selfshop'] = days_diff['date'] - days_diff['date_min_same']\n",
    "days_diff['days_othershop'] = days_diff['date'] - days_diff['date_min_other']\n"
   ]
  },
  {
   "cell_type": "code",
   "execution_count": 345,
   "metadata": {
    "colab": {
     "base_uri": "https://localhost:8080/",
     "height": 194
    },
    "colab_type": "code",
    "id": "ueckgmVVL9e7",
    "outputId": "d29a84d1-ca6b-4c0e-e997-3c3a79969ca7"
   },
   "outputs": [
    {
     "data": {
      "text/html": [
       "<div>\n",
       "<style scoped>\n",
       "    .dataframe tbody tr th:only-of-type {\n",
       "        vertical-align: middle;\n",
       "    }\n",
       "\n",
       "    .dataframe tbody tr th {\n",
       "        vertical-align: top;\n",
       "    }\n",
       "\n",
       "    .dataframe thead th {\n",
       "        text-align: right;\n",
       "    }\n",
       "</style>\n",
       "<table border=\"1\" class=\"dataframe\">\n",
       "  <thead>\n",
       "    <tr style=\"text-align: right;\">\n",
       "      <th></th>\n",
       "      <th>date</th>\n",
       "      <th>weekday</th>\n",
       "      <th>month</th>\n",
       "      <th>date_block_num</th>\n",
       "      <th>shop_id</th>\n",
       "      <th>item_id</th>\n",
       "      <th>item_price</th>\n",
       "      <th>item_cnt_day</th>\n",
       "      <th>item_name</th>\n",
       "      <th>item_category_id</th>\n",
       "      <th>shop_name</th>\n",
       "      <th>year</th>\n",
       "      <th>revenue</th>\n",
       "      <th>item_category_name</th>\n",
       "      <th>date_min_same</th>\n",
       "      <th>date_min_other</th>\n",
       "      <th>days_selfshop</th>\n",
       "      <th>days_othershop</th>\n",
       "    </tr>\n",
       "  </thead>\n",
       "  <tbody>\n",
       "    <tr>\n",
       "      <th>1221483</th>\n",
       "      <td>2015-10-22</td>\n",
       "      <td>Thursday</td>\n",
       "      <td>10</td>\n",
       "      <td>33</td>\n",
       "      <td>25</td>\n",
       "      <td>7327</td>\n",
       "      <td>349.0</td>\n",
       "      <td>1.0</td>\n",
       "      <td>V/A Deep Calm Mood  2CD (digipack)</td>\n",
       "      <td>55</td>\n",
       "      <td>Москва ТРК \"Атриум\"</td>\n",
       "      <td>2015</td>\n",
       "      <td>349.0</td>\n",
       "      <td>Music - locally produced CD</td>\n",
       "      <td>2015-10-18</td>\n",
       "      <td>2015-10-02</td>\n",
       "      <td>4 days</td>\n",
       "      <td>20 days</td>\n",
       "    </tr>\n",
       "    <tr>\n",
       "      <th>1221484</th>\n",
       "      <td>2015-10-24</td>\n",
       "      <td>Saturday</td>\n",
       "      <td>10</td>\n",
       "      <td>33</td>\n",
       "      <td>25</td>\n",
       "      <td>7315</td>\n",
       "      <td>399.0</td>\n",
       "      <td>1.0</td>\n",
       "      <td>V/A Dance Kick!  2CD (digipack)</td>\n",
       "      <td>55</td>\n",
       "      <td>Москва ТРК \"Атриум\"</td>\n",
       "      <td>2015</td>\n",
       "      <td>399.0</td>\n",
       "      <td>Music - locally produced CD</td>\n",
       "      <td>2015-10-24</td>\n",
       "      <td>2015-10-01</td>\n",
       "      <td>0 days</td>\n",
       "      <td>23 days</td>\n",
       "    </tr>\n",
       "    <tr>\n",
       "      <th>1221485</th>\n",
       "      <td>2015-10-31</td>\n",
       "      <td>Saturday</td>\n",
       "      <td>10</td>\n",
       "      <td>33</td>\n",
       "      <td>25</td>\n",
       "      <td>7409</td>\n",
       "      <td>299.0</td>\n",
       "      <td>1.0</td>\n",
       "      <td>V/A Nu Jazz Selection (digipack)</td>\n",
       "      <td>55</td>\n",
       "      <td>Москва ТРК \"Атриум\"</td>\n",
       "      <td>2015</td>\n",
       "      <td>299.0</td>\n",
       "      <td>Music - locally produced CD</td>\n",
       "      <td>2015-10-09</td>\n",
       "      <td>2015-10-01</td>\n",
       "      <td>22 days</td>\n",
       "      <td>30 days</td>\n",
       "    </tr>\n",
       "    <tr>\n",
       "      <th>1221486</th>\n",
       "      <td>2015-10-09</td>\n",
       "      <td>Friday</td>\n",
       "      <td>09</td>\n",
       "      <td>33</td>\n",
       "      <td>25</td>\n",
       "      <td>7409</td>\n",
       "      <td>299.0</td>\n",
       "      <td>1.0</td>\n",
       "      <td>V/A Nu Jazz Selection (digipack)</td>\n",
       "      <td>55</td>\n",
       "      <td>Москва ТРК \"Атриум\"</td>\n",
       "      <td>2015</td>\n",
       "      <td>299.0</td>\n",
       "      <td>Music - locally produced CD</td>\n",
       "      <td>2015-10-09</td>\n",
       "      <td>2015-10-01</td>\n",
       "      <td>0 days</td>\n",
       "      <td>8 days</td>\n",
       "    </tr>\n",
       "    <tr>\n",
       "      <th>1221487</th>\n",
       "      <td>2015-10-10</td>\n",
       "      <td>Saturday</td>\n",
       "      <td>10</td>\n",
       "      <td>33</td>\n",
       "      <td>25</td>\n",
       "      <td>7409</td>\n",
       "      <td>299.0</td>\n",
       "      <td>1.0</td>\n",
       "      <td>V/A Nu Jazz Selection (digipack)</td>\n",
       "      <td>55</td>\n",
       "      <td>Москва ТРК \"Атриум\"</td>\n",
       "      <td>2015</td>\n",
       "      <td>299.0</td>\n",
       "      <td>Music - locally produced CD</td>\n",
       "      <td>2015-10-09</td>\n",
       "      <td>2015-10-01</td>\n",
       "      <td>1 days</td>\n",
       "      <td>9 days</td>\n",
       "    </tr>\n",
       "  </tbody>\n",
       "</table>\n",
       "</div>"
      ],
      "text/plain": [
       "              date   weekday month  ...  date_min_other  days_selfshop  days_othershop\n",
       "1221483 2015-10-22  Thursday    10  ...      2015-10-02         4 days         20 days\n",
       "1221484 2015-10-24  Saturday    10  ...      2015-10-01         0 days         23 days\n",
       "1221485 2015-10-31  Saturday    10  ...      2015-10-01        22 days         30 days\n",
       "1221486 2015-10-09    Friday    09  ...      2015-10-01         0 days          8 days\n",
       "1221487 2015-10-10  Saturday    10  ...      2015-10-01         1 days          9 days\n",
       "\n",
       "[5 rows x 18 columns]"
      ]
     },
     "execution_count": 345,
     "metadata": {
      "tags": []
     },
     "output_type": "execute_result"
    }
   ],
   "source": [
    "days_diff.tail()"
   ]
  },
  {
   "cell_type": "code",
   "execution_count": 346,
   "metadata": {
    "colab": {
     "base_uri": "https://localhost:8080/",
     "height": 230
    },
    "colab_type": "code",
    "id": "9NExtSV6Cu7W",
    "outputId": "8be8b25c-c1fd-4dad-9bb2-7875328bb5dc",
    "scrolled": true
   },
   "outputs": [
    {
     "name": "stderr",
     "output_type": "stream",
     "text": [
      "/usr/local/lib/python3.6/dist-packages/ipykernel_launcher.py:2: SettingWithCopyWarning: \n",
      "A value is trying to be set on a copy of a slice from a DataFrame.\n",
      "Try using .loc[row_indexer,col_indexer] = value instead\n",
      "\n",
      "See the caveats in the documentation: https://pandas.pydata.org/pandas-docs/stable/user_guide/indexing.html#returning-a-view-versus-a-copy\n",
      "  \n",
      "/usr/local/lib/python3.6/dist-packages/ipykernel_launcher.py:3: SettingWithCopyWarning: \n",
      "A value is trying to be set on a copy of a slice from a DataFrame.\n",
      "Try using .loc[row_indexer,col_indexer] = value instead\n",
      "\n",
      "See the caveats in the documentation: https://pandas.pydata.org/pandas-docs/stable/user_guide/indexing.html#returning-a-view-versus-a-copy\n",
      "  This is separate from the ipykernel package so we can avoid doing imports until\n"
     ]
    }
   ],
   "source": [
    "diff = days_diff[['item_cnt_day','days_selfshop','days_othershop']]\n",
    "diff['days_selfshop'] = diff['days_selfshop'].dt.days\n",
    "diff['days_othershop'] = diff['days_othershop'].dt.days"
   ]
  },
  {
   "cell_type": "code",
   "execution_count": 356,
   "metadata": {
    "colab": {
     "base_uri": "https://localhost:8080/",
     "height": 340
    },
    "colab_type": "code",
    "id": "XuUK_rDxGZgw",
    "outputId": "7d5cca7d-c6e2-43c6-f174-b3358a912196"
   },
   "outputs": [
    {
     "data": {
      "text/html": [
       "<div>\n",
       "<style scoped>\n",
       "    .dataframe tbody tr th:only-of-type {\n",
       "        vertical-align: middle;\n",
       "    }\n",
       "\n",
       "    .dataframe tbody tr th {\n",
       "        vertical-align: top;\n",
       "    }\n",
       "\n",
       "    .dataframe thead th {\n",
       "        text-align: right;\n",
       "    }\n",
       "</style>\n",
       "<table border=\"1\" class=\"dataframe\">\n",
       "  <thead>\n",
       "    <tr style=\"text-align: right;\">\n",
       "      <th></th>\n",
       "      <th>item_cnt_day</th>\n",
       "      <th>days_selfshop</th>\n",
       "      <th>days_othershop</th>\n",
       "    </tr>\n",
       "  </thead>\n",
       "  <tbody>\n",
       "    <tr>\n",
       "      <th>1221471</th>\n",
       "      <td>10.0</td>\n",
       "      <td>2</td>\n",
       "      <td>3</td>\n",
       "    </tr>\n",
       "    <tr>\n",
       "      <th>1221472</th>\n",
       "      <td>3.0</td>\n",
       "      <td>3</td>\n",
       "      <td>4</td>\n",
       "    </tr>\n",
       "    <tr>\n",
       "      <th>1221473</th>\n",
       "      <td>2.0</td>\n",
       "      <td>4</td>\n",
       "      <td>5</td>\n",
       "    </tr>\n",
       "    <tr>\n",
       "      <th>1221474</th>\n",
       "      <td>4.0</td>\n",
       "      <td>5</td>\n",
       "      <td>6</td>\n",
       "    </tr>\n",
       "    <tr>\n",
       "      <th>1221475</th>\n",
       "      <td>1.0</td>\n",
       "      <td>6</td>\n",
       "      <td>7</td>\n",
       "    </tr>\n",
       "    <tr>\n",
       "      <th>1221476</th>\n",
       "      <td>4.0</td>\n",
       "      <td>7</td>\n",
       "      <td>8</td>\n",
       "    </tr>\n",
       "    <tr>\n",
       "      <th>1221477</th>\n",
       "      <td>1.0</td>\n",
       "      <td>8</td>\n",
       "      <td>9</td>\n",
       "    </tr>\n",
       "    <tr>\n",
       "      <th>1221483</th>\n",
       "      <td>1.0</td>\n",
       "      <td>4</td>\n",
       "      <td>20</td>\n",
       "    </tr>\n",
       "    <tr>\n",
       "      <th>1221485</th>\n",
       "      <td>1.0</td>\n",
       "      <td>22</td>\n",
       "      <td>30</td>\n",
       "    </tr>\n",
       "    <tr>\n",
       "      <th>1221487</th>\n",
       "      <td>1.0</td>\n",
       "      <td>1</td>\n",
       "      <td>9</td>\n",
       "    </tr>\n",
       "  </tbody>\n",
       "</table>\n",
       "</div>"
      ],
      "text/plain": [
       "         item_cnt_day  days_selfshop  days_othershop\n",
       "1221471          10.0              2               3\n",
       "1221472           3.0              3               4\n",
       "1221473           2.0              4               5\n",
       "1221474           4.0              5               6\n",
       "1221475           1.0              6               7\n",
       "1221476           4.0              7               8\n",
       "1221477           1.0              8               9\n",
       "1221483           1.0              4              20\n",
       "1221485           1.0             22              30\n",
       "1221487           1.0              1               9"
      ]
     },
     "execution_count": 356,
     "metadata": {
      "tags": []
     },
     "output_type": "execute_result"
    }
   ],
   "source": [
    "diff = diff[(diff['days_selfshop']>0) & (diff['days_othershop']>0)]\n",
    "diff.tail(10)"
   ]
  },
  {
   "cell_type": "code",
   "execution_count": 355,
   "metadata": {
    "colab": {
     "base_uri": "https://localhost:8080/",
     "height": 298
    },
    "colab_type": "code",
    "id": "iz657LqpMkHc",
    "outputId": "ea66e617-8a61-4352-871c-a8b79f388dc1"
   },
   "outputs": [
    {
     "data": {
      "text/plain": [
       "<matplotlib.axes._subplots.AxesSubplot at 0x7f7ff9bea898>"
      ]
     },
     "execution_count": 355,
     "metadata": {
      "tags": []
     },
     "output_type": "execute_result"
    },
    {
     "data": {
      "image/png": "[encoded data removed]",
      "text/plain": [
       "<Figure size 432x288 with 1 Axes>"
      ]
     },
     "metadata": {
      "needs_background": "light",
      "tags": []
     },
     "output_type": "display_data"
    }
   ],
   "source": [
    "sns.scatterplot(x='days_selfshop', y='item_cnt_day', data=diff)"
   ]
  },
  {
   "cell_type": "code",
   "execution_count": 358,
   "metadata": {
    "colab": {
     "base_uri": "https://localhost:8080/",
     "height": 298
    },
    "colab_type": "code",
    "id": "aM1s9248NXm9",
    "outputId": "6fbcb725-4fdf-4443-a873-3b0a530bca4e"
   },
   "outputs": [
    {
     "data": {
      "text/plain": [
       "<matplotlib.axes._subplots.AxesSubplot at 0x7f7ff9c3e668>"
      ]
     },
     "execution_count": 358,
     "metadata": {
      "tags": []
     },
     "output_type": "execute_result"
    },
    {
     "data": {
      "image/png": "[encoded data removed]",
      "text/plain": [
       "<Figure size 432x288 with 1 Axes>"
      ]
     },
     "metadata": {
      "needs_background": "light",
      "tags": []
     },
     "output_type": "display_data"
    }
   ],
   "source": [
    "sns.scatterplot(x='days_othershop', y='item_cnt_day', data=diff)"
   ]
  },
  {
   "cell_type": "markdown",
   "metadata": {
    "colab_type": "text",
    "id": "ISwP5gJxOKCR"
   },
   "source": [
    "> There is no strong relation betwen the days period and item counts."
   ]
  },
  {
   "cell_type": "markdown",
   "metadata": {
    "colab_type": "text",
    "id": "ZekGjMXqWKFD"
   },
   "source": [
    "## Part 6 - Interesting Plot"
   ]
  },
  {
   "cell_type": "code",
   "execution_count": null,
   "metadata": {
    "colab": {},
    "colab_type": "code",
    "id": "X44JLy2AWRHO"
   },
   "outputs": [],
   "source": [
    "# TODO: code to generate the plot here."
   ]
  },
  {
   "cell_type": "code",
   "execution_count": 359,
   "metadata": {
    "colab": {
     "base_uri": "https://localhost:8080/",
     "height": 298
    },
    "colab_type": "code",
    "id": "9NqP1cjVQ5XE",
    "outputId": "2f6e1349-da3f-408f-ca0f-42875c73b0eb"
   },
   "outputs": [
    {
     "data": {
      "text/plain": [
       "<matplotlib.axes._subplots.AxesSubplot at 0x7f7ff9c24668>"
      ]
     },
     "execution_count": 359,
     "metadata": {
      "tags": []
     },
     "output_type": "execute_result"
    },
    {
     "data": {
      "image/png": "[encoded data removed]",
      "text/plain": [
       "<Figure size 432x288 with 1 Axes>"
      ]
     },
     "metadata": {
      "needs_background": "light",
      "tags": []
     },
     "output_type": "display_data"
    }
   ],
   "source": [
    "sns.pointplot(x='date_block_num', y='item_cnt_day', hue='year', data=PS4,estimator=np.sum)"
   ]
  },
  {
   "cell_type": "code",
   "execution_count": 360,
   "metadata": {
    "colab": {
     "base_uri": "https://localhost:8080/",
     "height": 298
    },
    "colab_type": "code",
    "id": "q1wL67WlhitP",
    "outputId": "df61a9ea-1f62-4c86-b0fd-e54d70f8eb3b"
   },
   "outputs": [
    {
     "data": {
      "text/plain": [
       "<matplotlib.axes._subplots.AxesSubplot at 0x7f7ff9c687f0>"
      ]
     },
     "execution_count": 360,
     "metadata": {
      "tags": []
     },
     "output_type": "execute_result"
    },
    {
     "data": {
      "image/png": "[encoded data removed]",
      "text/plain": [
       "<Figure size 432x288 with 1 Axes>"
      ]
     },
     "metadata": {
      "needs_background": "light",
      "tags": []
     },
     "output_type": "display_data"
    }
   ],
   "source": [
    "sns.pointplot(x='date_block_num', y='item_cnt_day', hue='year', data=Xbox1,estimator=np.sum)"
   ]
  },
  {
   "cell_type": "markdown",
   "metadata": {
    "colab_type": "text",
    "id": "VbaTNQuwyPwA"
   },
   "source": [
    "> Both PS4 and Xbox have a low amount sales after their released time, while only got higher on holidays. Thus for game consoles, the good sales record may not last very long."
   ]
  },
  {
   "cell_type": "code",
   "execution_count": 361,
   "metadata": {
    "colab": {
     "base_uri": "https://localhost:8080/",
     "height": 194
    },
    "colab_type": "code",
    "id": "elx3SjJCkRAu",
    "outputId": "90f52e5d-f423-4c46-d652-ede7ebc68390"
   },
   "outputs": [
    {
     "data": {
      "text/html": [
       "<div>\n",
       "<style scoped>\n",
       "    .dataframe tbody tr th:only-of-type {\n",
       "        vertical-align: middle;\n",
       "    }\n",
       "\n",
       "    .dataframe tbody tr th {\n",
       "        vertical-align: top;\n",
       "    }\n",
       "\n",
       "    .dataframe thead th {\n",
       "        text-align: right;\n",
       "    }\n",
       "</style>\n",
       "<table border=\"1\" class=\"dataframe\">\n",
       "  <thead>\n",
       "    <tr style=\"text-align: right;\">\n",
       "      <th></th>\n",
       "      <th>item_category_name</th>\n",
       "      <th>item_category_id</th>\n",
       "      <th>item_category_type</th>\n",
       "      <th>item_category_sub_type</th>\n",
       "    </tr>\n",
       "  </thead>\n",
       "  <tbody>\n",
       "    <tr>\n",
       "      <th>0</th>\n",
       "      <td>PC - Headsets / Headphones</td>\n",
       "      <td>0</td>\n",
       "      <td>PC</td>\n",
       "      <td>Headsets / Headphones</td>\n",
       "    </tr>\n",
       "    <tr>\n",
       "      <th>1</th>\n",
       "      <td>Accessories - PS2</td>\n",
       "      <td>1</td>\n",
       "      <td>Accessories</td>\n",
       "      <td>PS2</td>\n",
       "    </tr>\n",
       "    <tr>\n",
       "      <th>2</th>\n",
       "      <td>Accessories - PS3</td>\n",
       "      <td>2</td>\n",
       "      <td>Accessories</td>\n",
       "      <td>PS3</td>\n",
       "    </tr>\n",
       "    <tr>\n",
       "      <th>3</th>\n",
       "      <td>Accessories - PS4</td>\n",
       "      <td>3</td>\n",
       "      <td>Accessories</td>\n",
       "      <td>PS4</td>\n",
       "    </tr>\n",
       "    <tr>\n",
       "      <th>4</th>\n",
       "      <td>Accessories - PSP</td>\n",
       "      <td>4</td>\n",
       "      <td>Accessories</td>\n",
       "      <td>PSP</td>\n",
       "    </tr>\n",
       "  </tbody>\n",
       "</table>\n",
       "</div>"
      ],
      "text/plain": [
       "           item_category_name  ...  item_category_sub_type\n",
       "0  PC - Headsets / Headphones  ...   Headsets / Headphones\n",
       "1           Accessories - PS2  ...                     PS2\n",
       "2           Accessories - PS3  ...                     PS3\n",
       "3           Accessories - PS4  ...                     PS4\n",
       "4           Accessories - PSP  ...                     PSP\n",
       "\n",
       "[5 rows x 4 columns]"
      ]
     },
     "execution_count": 361,
     "metadata": {
      "tags": []
     },
     "output_type": "execute_result"
    }
   ],
   "source": [
    "item_categories['item_category_type'] = item_categories['item_category_name'].str.split('-').map(lambda x: x[0])\n",
    "item_categories['item_category_sub_type'] = item_categories['item_category_name'].str.split('-').map(lambda x: x[1].strip() if len(x) > 1 else x[0].strip())\n",
    "item_categories.head()"
   ]
  },
  {
   "cell_type": "code",
   "execution_count": 362,
   "metadata": {
    "colab": {
     "base_uri": "https://localhost:8080/",
     "height": 278
    },
    "colab_type": "code",
    "id": "2xnbd5iVkCsA",
    "outputId": "7c233010-a90c-4da3-bdbe-bf3f78cf32c9"
   },
   "outputs": [
    {
     "data": {
      "text/html": [
       "<div>\n",
       "<style scoped>\n",
       "    .dataframe tbody tr th:only-of-type {\n",
       "        vertical-align: middle;\n",
       "    }\n",
       "\n",
       "    .dataframe tbody tr th {\n",
       "        vertical-align: top;\n",
       "    }\n",
       "\n",
       "    .dataframe thead th {\n",
       "        text-align: right;\n",
       "    }\n",
       "</style>\n",
       "<table border=\"1\" class=\"dataframe\">\n",
       "  <thead>\n",
       "    <tr style=\"text-align: right;\">\n",
       "      <th></th>\n",
       "      <th>date</th>\n",
       "      <th>weekday</th>\n",
       "      <th>month</th>\n",
       "      <th>date_block_num</th>\n",
       "      <th>shop_id</th>\n",
       "      <th>item_id</th>\n",
       "      <th>item_price</th>\n",
       "      <th>item_cnt_day</th>\n",
       "      <th>item_name</th>\n",
       "      <th>item_category_id</th>\n",
       "      <th>shop_name</th>\n",
       "      <th>year</th>\n",
       "      <th>revenue</th>\n",
       "      <th>item_category_name_x</th>\n",
       "      <th>item_category_name_y</th>\n",
       "      <th>item_category_type</th>\n",
       "      <th>item_category_sub_type</th>\n",
       "    </tr>\n",
       "  </thead>\n",
       "  <tbody>\n",
       "    <tr>\n",
       "      <th>0</th>\n",
       "      <td>01/02/2013</td>\n",
       "      <td>Wednesday</td>\n",
       "      <td>02</td>\n",
       "      <td>0</td>\n",
       "      <td>59</td>\n",
       "      <td>22154</td>\n",
       "      <td>999.0</td>\n",
       "      <td>1.0</td>\n",
       "      <td>ЯВЛЕНИЕ 2012 (BD)</td>\n",
       "      <td>37</td>\n",
       "      <td>Ярославль ТЦ \"Альтаир\"</td>\n",
       "      <td>2013</td>\n",
       "      <td>999.0</td>\n",
       "      <td>Cinema - Blu-Ray</td>\n",
       "      <td>Cinema - Blu-Ray</td>\n",
       "      <td>Cinema</td>\n",
       "      <td>Blu</td>\n",
       "    </tr>\n",
       "    <tr>\n",
       "      <th>1</th>\n",
       "      <td>01/03/2013</td>\n",
       "      <td>Thursday</td>\n",
       "      <td>03</td>\n",
       "      <td>0</td>\n",
       "      <td>25</td>\n",
       "      <td>2574</td>\n",
       "      <td>399.0</td>\n",
       "      <td>2.0</td>\n",
       "      <td>DEL REY LANA  Born To Die  The Paradise Editio...</td>\n",
       "      <td>55</td>\n",
       "      <td>Москва ТРК \"Атриум\"</td>\n",
       "      <td>2013</td>\n",
       "      <td>798.0</td>\n",
       "      <td>Music - locally produced CD</td>\n",
       "      <td>Music - locally produced CD</td>\n",
       "      <td>Music</td>\n",
       "      <td>locally produced CD</td>\n",
       "    </tr>\n",
       "    <tr>\n",
       "      <th>2</th>\n",
       "      <td>01/05/2013</td>\n",
       "      <td>Saturday</td>\n",
       "      <td>05</td>\n",
       "      <td>0</td>\n",
       "      <td>25</td>\n",
       "      <td>2574</td>\n",
       "      <td>399.0</td>\n",
       "      <td>1.0</td>\n",
       "      <td>DEL REY LANA  Born To Die  The Paradise Editio...</td>\n",
       "      <td>55</td>\n",
       "      <td>Москва ТРК \"Атриум\"</td>\n",
       "      <td>2013</td>\n",
       "      <td>399.0</td>\n",
       "      <td>Music - locally produced CD</td>\n",
       "      <td>Music - locally produced CD</td>\n",
       "      <td>Music</td>\n",
       "      <td>locally produced CD</td>\n",
       "    </tr>\n",
       "    <tr>\n",
       "      <th>3</th>\n",
       "      <td>01/07/2013</td>\n",
       "      <td>Monday</td>\n",
       "      <td>07</td>\n",
       "      <td>0</td>\n",
       "      <td>25</td>\n",
       "      <td>2574</td>\n",
       "      <td>399.0</td>\n",
       "      <td>1.0</td>\n",
       "      <td>DEL REY LANA  Born To Die  The Paradise Editio...</td>\n",
       "      <td>55</td>\n",
       "      <td>Москва ТРК \"Атриум\"</td>\n",
       "      <td>2013</td>\n",
       "      <td>399.0</td>\n",
       "      <td>Music - locally produced CD</td>\n",
       "      <td>Music - locally produced CD</td>\n",
       "      <td>Music</td>\n",
       "      <td>locally produced CD</td>\n",
       "    </tr>\n",
       "    <tr>\n",
       "      <th>4</th>\n",
       "      <td>01/08/2013</td>\n",
       "      <td>Tuesday</td>\n",
       "      <td>08</td>\n",
       "      <td>0</td>\n",
       "      <td>25</td>\n",
       "      <td>2574</td>\n",
       "      <td>399.0</td>\n",
       "      <td>2.0</td>\n",
       "      <td>DEL REY LANA  Born To Die  The Paradise Editio...</td>\n",
       "      <td>55</td>\n",
       "      <td>Москва ТРК \"Атриум\"</td>\n",
       "      <td>2013</td>\n",
       "      <td>798.0</td>\n",
       "      <td>Music - locally produced CD</td>\n",
       "      <td>Music - locally produced CD</td>\n",
       "      <td>Music</td>\n",
       "      <td>locally produced CD</td>\n",
       "    </tr>\n",
       "  </tbody>\n",
       "</table>\n",
       "</div>"
      ],
      "text/plain": [
       "         date    weekday  ... item_category_type  item_category_sub_type\n",
       "0  01/02/2013  Wednesday  ...            Cinema                      Blu\n",
       "1  01/03/2013   Thursday  ...             Music      locally produced CD\n",
       "2  01/05/2013   Saturday  ...             Music      locally produced CD\n",
       "3  01/07/2013     Monday  ...             Music      locally produced CD\n",
       "4  01/08/2013    Tuesday  ...             Music      locally produced CD\n",
       "\n",
       "[5 rows x 17 columns]"
      ]
     },
     "execution_count": 362,
     "metadata": {
      "tags": []
     },
     "output_type": "execute_result"
    }
   ],
   "source": [
    "train= pd.merge(train,item_categories,on='item_category_id',how='left')\n",
    "train.head()"
   ]
  },
  {
   "cell_type": "code",
   "execution_count": 363,
   "metadata": {
    "colab": {
     "base_uri": "https://localhost:8080/",
     "height": 380
    },
    "colab_type": "code",
    "id": "Xkx5YqE5Q-B-",
    "outputId": "f236588e-7f17-41ca-d437-335ccdfba67f"
   },
   "outputs": [
    {
     "data": {
      "text/plain": [
       "<matplotlib.axes._subplots.AxesSubplot at 0x7f7ff9cc0f60>"
      ]
     },
     "execution_count": 363,
     "metadata": {
      "tags": []
     },
     "output_type": "execute_result"
    },
    {
     "data": {
      "image/png": "[encoded data removed]",
      "text/plain": [
       "<Figure size 432x288 with 2 Axes>"
      ]
     },
     "metadata": {
      "needs_background": "light",
      "tags": []
     },
     "output_type": "display_data"
    }
   ],
   "source": [
    "# Exploring data by category\n",
    "cat_items = train.groupby(['month', 'item_category_type'])[['item_cnt_day']].sum().reset_index()\n",
    "\n",
    "cat_pivot = cat_items.pivot(index='month', columns='item_category_type', values='item_cnt_day').fillna(0)\n",
    "\n",
    "# Draw heatmap\n",
    "corr = cat_pivot.corr()\n",
    "sns.heatmap(corr, center=0, cmap='RdYlGn')"
   ]
  },
  {
   "cell_type": "markdown",
   "metadata": {
    "colab_type": "text",
    "id": "FyJfIbDbWXaE"
   },
   "source": [
    "\n",
    "*   From the heat map we can see taht movies, music, PC games, cinema are all positively correlated. They could all be considered as ways of entertainment. \n",
    "*   Another interesting finding is that I assume that PC game will have high relation with Andorid games. But they are not. Since they are all belong to game category, this seems a little strange. <br/>\n",
    "Maybe it's because the target platform of these two(PC and Android phones) are  different.People are likely to play different kinds of games on these two platforms."
   ]
  },
  {
   "cell_type": "markdown",
   "metadata": {
    "colab_type": "text",
    "id": "La-ytweLU8ud"
   },
   "source": [
    "## Part 7 - Prediction Model"
   ]
  },
  {
   "cell_type": "code",
   "execution_count": 98,
   "metadata": {
    "colab": {},
    "colab_type": "code",
    "id": "JmWaztUsbVjs"
   },
   "outputs": [],
   "source": [
    "from sklearn.preprocessing import LabelEncoder\n",
    "from itertools import product\n",
    "from xgboost import XGBRegressor\n",
    "from xgboost import plot_importance"
   ]
  },
  {
   "cell_type": "code",
   "execution_count": 365,
   "metadata": {
    "colab": {},
    "colab_type": "code",
    "id": "pBRfXYRZgqXI"
   },
   "outputs": [],
   "source": [
    "# load data\n",
    "items=pd.read_csv(\"items.csv\")\n",
    "shops=pd.read_csv(\"shops.csv\")\n",
    "item_categories=pd.read_csv(\"item_categories.csv\")\n",
    "train=pd.read_csv(\"sales_train.csv\")\n",
    "test=pd.read_csv(\"test.csv\")"
   ]
  },
  {
   "cell_type": "code",
   "execution_count": 366,
   "metadata": {
    "colab": {},
    "colab_type": "code",
    "id": "GMaLzxzQlqc6"
   },
   "outputs": [],
   "source": [
    "train = train[(train.item_price < 100000 )& (train.item_price > 0)& (train.item_cnt_day < 1000)]\n",
    "train.loc[train.item_cnt_day < 1, \"item_cnt_day\"] = 0"
   ]
  },
  {
   "cell_type": "code",
   "execution_count": null,
   "metadata": {
    "colab": {},
    "colab_type": "code",
    "id": "wt6FDG5kjYwg"
   },
   "outputs": [],
   "source": [
    "translator = Translator()\n",
    "item_categories['item_category_name'] = item_categories['item_category_name'].apply(translator.translate, src='ru', dest='en').apply(getattr, args=('text',))"
   ]
  },
  {
   "cell_type": "code",
   "execution_count": 368,
   "metadata": {
    "colab": {},
    "colab_type": "code",
    "id": "6T76pSWuayHf"
   },
   "outputs": [],
   "source": [
    "#possess the shop data\n",
    "\n",
    "train.loc[train.shop_id == 0, 'shop_id'] = 57\n",
    "test.loc[test.shop_id == 0, 'shop_id'] = 57\n",
    "\n",
    "train.loc[train.shop_id == 1, 'shop_id'] = 58\n",
    "test.loc[test.shop_id == 1, 'shop_id'] = 58\n",
    "\n",
    "train.loc[train.shop_id == 10, 'shop_id'] = 11\n",
    "test.loc[test.shop_id == 10, 'shop_id'] = 11"
   ]
  },
  {
   "cell_type": "code",
   "execution_count": 369,
   "metadata": {
    "colab": {
     "base_uri": "https://localhost:8080/",
     "height": 194
    },
    "colab_type": "code",
    "id": "VMSqCjWca7-c",
    "outputId": "047bf6fc-930a-444a-bfb4-e3483b1271a6"
   },
   "outputs": [
    {
     "data": {
      "text/html": [
       "<div>\n",
       "<style scoped>\n",
       "    .dataframe tbody tr th:only-of-type {\n",
       "        vertical-align: middle;\n",
       "    }\n",
       "\n",
       "    .dataframe tbody tr th {\n",
       "        vertical-align: top;\n",
       "    }\n",
       "\n",
       "    .dataframe thead th {\n",
       "        text-align: right;\n",
       "    }\n",
       "</style>\n",
       "<table border=\"1\" class=\"dataframe\">\n",
       "  <thead>\n",
       "    <tr style=\"text-align: right;\">\n",
       "      <th></th>\n",
       "      <th>shop_name</th>\n",
       "      <th>shop_id</th>\n",
       "      <th>city</th>\n",
       "      <th>category</th>\n",
       "    </tr>\n",
       "  </thead>\n",
       "  <tbody>\n",
       "    <tr>\n",
       "      <th>0</th>\n",
       "      <td>!Якутск Орджоникидзе, 56 фран</td>\n",
       "      <td>0</td>\n",
       "      <td>!Якутск</td>\n",
       "      <td>Орджоникидзе,</td>\n",
       "    </tr>\n",
       "    <tr>\n",
       "      <th>1</th>\n",
       "      <td>!Якутск ТЦ \"Центральный\" фран</td>\n",
       "      <td>1</td>\n",
       "      <td>!Якутск</td>\n",
       "      <td>ТЦ</td>\n",
       "    </tr>\n",
       "    <tr>\n",
       "      <th>2</th>\n",
       "      <td>Адыгея ТЦ \"Мега\"</td>\n",
       "      <td>2</td>\n",
       "      <td>Адыгея</td>\n",
       "      <td>ТЦ</td>\n",
       "    </tr>\n",
       "    <tr>\n",
       "      <th>3</th>\n",
       "      <td>Балашиха ТРК \"Октябрь-Киномир\"</td>\n",
       "      <td>3</td>\n",
       "      <td>Балашиха</td>\n",
       "      <td>ТРК</td>\n",
       "    </tr>\n",
       "    <tr>\n",
       "      <th>4</th>\n",
       "      <td>Волжский ТЦ \"Волга Молл\"</td>\n",
       "      <td>4</td>\n",
       "      <td>Волжский</td>\n",
       "      <td>ТЦ</td>\n",
       "    </tr>\n",
       "  </tbody>\n",
       "</table>\n",
       "</div>"
      ],
      "text/plain": [
       "                        shop_name  shop_id      city       category\n",
       "0   !Якутск Орджоникидзе, 56 фран        0   !Якутск  Орджоникидзе,\n",
       "1   !Якутск ТЦ \"Центральный\" фран        1   !Якутск             ТЦ\n",
       "2                Адыгея ТЦ \"Мега\"        2    Адыгея             ТЦ\n",
       "3  Балашиха ТРК \"Октябрь-Киномир\"        3  Балашиха            ТРК\n",
       "4        Волжский ТЦ \"Волга Молл\"        4  Волжский             ТЦ"
      ]
     },
     "execution_count": 369,
     "metadata": {
      "tags": []
     },
     "output_type": "execute_result"
    }
   ],
   "source": [
    "shops[\"city\"] = shops.shop_name.str.split(\" \").map( lambda x: x[0] )\n",
    "shops[\"category\"] = shops.shop_name.str.split(\" \").map( lambda x: x[1] )\n",
    "shops.head()"
   ]
  },
  {
   "cell_type": "code",
   "execution_count": 370,
   "metadata": {
    "colab": {
     "base_uri": "https://localhost:8080/",
     "height": 194
    },
    "colab_type": "code",
    "id": "8CT-o_ZObOWk",
    "outputId": "d600810c-80f6-4c75-c9f0-c38301680cb7"
   },
   "outputs": [
    {
     "data": {
      "text/html": [
       "<div>\n",
       "<style scoped>\n",
       "    .dataframe tbody tr th:only-of-type {\n",
       "        vertical-align: middle;\n",
       "    }\n",
       "\n",
       "    .dataframe tbody tr th {\n",
       "        vertical-align: top;\n",
       "    }\n",
       "\n",
       "    .dataframe thead th {\n",
       "        text-align: right;\n",
       "    }\n",
       "</style>\n",
       "<table border=\"1\" class=\"dataframe\">\n",
       "  <thead>\n",
       "    <tr style=\"text-align: right;\">\n",
       "      <th></th>\n",
       "      <th>shop_id</th>\n",
       "      <th>shop_category</th>\n",
       "      <th>shop_city</th>\n",
       "    </tr>\n",
       "  </thead>\n",
       "  <tbody>\n",
       "    <tr>\n",
       "      <th>0</th>\n",
       "      <td>0</td>\n",
       "      <td>4</td>\n",
       "      <td>0</td>\n",
       "    </tr>\n",
       "    <tr>\n",
       "      <th>1</th>\n",
       "      <td>1</td>\n",
       "      <td>9</td>\n",
       "      <td>0</td>\n",
       "    </tr>\n",
       "    <tr>\n",
       "      <th>2</th>\n",
       "      <td>2</td>\n",
       "      <td>9</td>\n",
       "      <td>1</td>\n",
       "    </tr>\n",
       "    <tr>\n",
       "      <th>3</th>\n",
       "      <td>3</td>\n",
       "      <td>7</td>\n",
       "      <td>2</td>\n",
       "    </tr>\n",
       "    <tr>\n",
       "      <th>4</th>\n",
       "      <td>4</td>\n",
       "      <td>9</td>\n",
       "      <td>3</td>\n",
       "    </tr>\n",
       "  </tbody>\n",
       "</table>\n",
       "</div>"
      ],
      "text/plain": [
       "   shop_id  shop_category  shop_city\n",
       "0        0              4          0\n",
       "1        1              9          0\n",
       "2        2              9          1\n",
       "3        3              7          2\n",
       "4        4              9          3"
      ]
     },
     "execution_count": 370,
     "metadata": {
      "tags": []
     },
     "output_type": "execute_result"
    }
   ],
   "source": [
    "#Encoding the shop cats so that they can be presented as numbers.\n",
    "shops[\"shop_category\"] = LabelEncoder().fit_transform( shops.category )\n",
    "shops[\"shop_city\"] = LabelEncoder().fit_transform( shops.city )\n",
    "\n",
    "shops = shops[[\"shop_id\", \"shop_category\", \"shop_city\"]]\n",
    "shops.head()"
   ]
  },
  {
   "cell_type": "code",
   "execution_count": 372,
   "metadata": {
    "colab": {
     "base_uri": "https://localhost:8080/",
     "height": 194
    },
    "colab_type": "code",
    "id": "I2JA_F4xbwhg",
    "outputId": "75bd0b81-d44c-4a35-ec44-dd39f12ab59b"
   },
   "outputs": [
    {
     "data": {
      "text/html": [
       "<div>\n",
       "<style scoped>\n",
       "    .dataframe tbody tr th:only-of-type {\n",
       "        vertical-align: middle;\n",
       "    }\n",
       "\n",
       "    .dataframe tbody tr th {\n",
       "        vertical-align: top;\n",
       "    }\n",
       "\n",
       "    .dataframe thead th {\n",
       "        text-align: right;\n",
       "    }\n",
       "</style>\n",
       "<table border=\"1\" class=\"dataframe\">\n",
       "  <thead>\n",
       "    <tr style=\"text-align: right;\">\n",
       "      <th></th>\n",
       "      <th>item_category_name</th>\n",
       "      <th>item_category_id</th>\n",
       "      <th>item_category_type</th>\n",
       "      <th>item_category_sub_type</th>\n",
       "    </tr>\n",
       "  </thead>\n",
       "  <tbody>\n",
       "    <tr>\n",
       "      <th>0</th>\n",
       "      <td>PC - Headsets / Headphones</td>\n",
       "      <td>0</td>\n",
       "      <td>PC</td>\n",
       "      <td>Headsets / Headphones</td>\n",
       "    </tr>\n",
       "    <tr>\n",
       "      <th>1</th>\n",
       "      <td>Accessories - PS2</td>\n",
       "      <td>1</td>\n",
       "      <td>Accessories</td>\n",
       "      <td>PS2</td>\n",
       "    </tr>\n",
       "    <tr>\n",
       "      <th>2</th>\n",
       "      <td>Accessories - PS3</td>\n",
       "      <td>2</td>\n",
       "      <td>Accessories</td>\n",
       "      <td>PS3</td>\n",
       "    </tr>\n",
       "    <tr>\n",
       "      <th>3</th>\n",
       "      <td>Accessories - PS4</td>\n",
       "      <td>3</td>\n",
       "      <td>Accessories</td>\n",
       "      <td>PS4</td>\n",
       "    </tr>\n",
       "    <tr>\n",
       "      <th>4</th>\n",
       "      <td>Accessories - PSP</td>\n",
       "      <td>4</td>\n",
       "      <td>Accessories</td>\n",
       "      <td>PSP</td>\n",
       "    </tr>\n",
       "  </tbody>\n",
       "</table>\n",
       "</div>"
      ],
      "text/plain": [
       "           item_category_name  ...  item_category_sub_type\n",
       "0  PC - Headsets / Headphones  ...   Headsets / Headphones\n",
       "1           Accessories - PS2  ...                     PS2\n",
       "2           Accessories - PS3  ...                     PS3\n",
       "3           Accessories - PS4  ...                     PS4\n",
       "4           Accessories - PSP  ...                     PSP\n",
       "\n",
       "[5 rows x 4 columns]"
      ]
     },
     "execution_count": 372,
     "metadata": {
      "tags": []
     },
     "output_type": "execute_result"
    }
   ],
   "source": [
    "# process the item_cat data\n",
    "\n",
    "item_categories['item_category_type'] = item_categories['item_category_name'].str.split('-').map(lambda x: x[0])\n",
    "item_categories['item_category_sub_type'] = item_categories['item_category_name'].str.split('-').map(lambda x: x[1].strip() if len(x) > 1 else x[0].strip())\n",
    "item_categories.head()"
   ]
  },
  {
   "cell_type": "code",
   "execution_count": 373,
   "metadata": {
    "colab": {
     "base_uri": "https://localhost:8080/",
     "height": 194
    },
    "colab_type": "code",
    "id": "bn3fxrEEcEnJ",
    "outputId": "8dde7ccc-cc6b-45fc-ad84-06caa9bcf56a"
   },
   "outputs": [
    {
     "data": {
      "text/html": [
       "<div>\n",
       "<style scoped>\n",
       "    .dataframe tbody tr th:only-of-type {\n",
       "        vertical-align: middle;\n",
       "    }\n",
       "\n",
       "    .dataframe tbody tr th {\n",
       "        vertical-align: top;\n",
       "    }\n",
       "\n",
       "    .dataframe thead th {\n",
       "        text-align: right;\n",
       "    }\n",
       "</style>\n",
       "<table border=\"1\" class=\"dataframe\">\n",
       "  <thead>\n",
       "    <tr style=\"text-align: right;\">\n",
       "      <th></th>\n",
       "      <th>item_category_id</th>\n",
       "      <th>item_category_type_code</th>\n",
       "      <th>item_category_sub_type_code</th>\n",
       "    </tr>\n",
       "  </thead>\n",
       "  <tbody>\n",
       "    <tr>\n",
       "      <th>0</th>\n",
       "      <td>0</td>\n",
       "      <td>15</td>\n",
       "      <td>34</td>\n",
       "    </tr>\n",
       "    <tr>\n",
       "      <th>1</th>\n",
       "      <td>1</td>\n",
       "      <td>0</td>\n",
       "      <td>43</td>\n",
       "    </tr>\n",
       "    <tr>\n",
       "      <th>2</th>\n",
       "      <td>2</td>\n",
       "      <td>0</td>\n",
       "      <td>44</td>\n",
       "    </tr>\n",
       "    <tr>\n",
       "      <th>3</th>\n",
       "      <td>3</td>\n",
       "      <td>0</td>\n",
       "      <td>45</td>\n",
       "    </tr>\n",
       "    <tr>\n",
       "      <th>4</th>\n",
       "      <td>4</td>\n",
       "      <td>0</td>\n",
       "      <td>47</td>\n",
       "    </tr>\n",
       "  </tbody>\n",
       "</table>\n",
       "</div>"
      ],
      "text/plain": [
       "   item_category_id  item_category_type_code  item_category_sub_type_code\n",
       "0                 0                       15                           34\n",
       "1                 1                        0                           43\n",
       "2                 2                        0                           44\n",
       "3                 3                        0                           45\n",
       "4                 4                        0                           47"
      ]
     },
     "execution_count": 373,
     "metadata": {
      "tags": []
     },
     "output_type": "execute_result"
    }
   ],
   "source": [
    "item_categories['item_category_type_code'] = LabelEncoder().fit_transform(item_categories['item_category_type'])\n",
    "item_categories['item_category_sub_type_code'] = LabelEncoder().fit_transform(item_categories['item_category_sub_type'])\n",
    "item_categories = item_categories[['item_category_id','item_category_type_code','item_category_sub_type_code']]\n",
    "item_categories.head()"
   ]
  },
  {
   "cell_type": "code",
   "execution_count": 374,
   "metadata": {
    "colab": {},
    "colab_type": "code",
    "id": "cBQpG5n-EApX"
   },
   "outputs": [],
   "source": [
    "matrix = []\n",
    "#train=train1\n",
    "cols = ['date_block_num','shop_id','item_id']\n",
    "for i in range(34):\n",
    "    sales = train[train.date_block_num==i]\n",
    "    matrix.append(np.array(list(product([i], sales.shop_id.unique(), sales.item_id.unique())), dtype='int16'))"
   ]
  },
  {
   "cell_type": "code",
   "execution_count": 375,
   "metadata": {
    "colab": {},
    "colab_type": "code",
    "id": "oS4_BYr9EIXH"
   },
   "outputs": [],
   "source": [
    "matrix = pd.DataFrame(np.vstack(matrix), columns=cols)\n",
    "matrix['date_block_num'] = matrix['date_block_num'].astype(np.int8)\n",
    "\n",
    "matrix.sort_values(cols,inplace=True)"
   ]
  },
  {
   "cell_type": "code",
   "execution_count": 376,
   "metadata": {
    "colab": {},
    "colab_type": "code",
    "id": "_Ewb5XWPIGQq"
   },
   "outputs": [],
   "source": [
    "group = train.groupby(['date_block_num','shop_id','item_id']).agg({'item_cnt_day': ['sum']})\n",
    "group.columns = ['item_cnt_month']\n",
    "group.reset_index(inplace=True)\n",
    "\n",
    "matrix = pd.merge(matrix, group, on=cols, how='left')\n",
    "matrix['item_cnt_month'] = (matrix['item_cnt_month']\n",
    "                                .fillna(0)\n",
    "                                .clip(0,20)\n",
    "                                .astype(np.float16))"
   ]
  },
  {
   "cell_type": "code",
   "execution_count": 377,
   "metadata": {
    "colab": {
     "base_uri": "https://localhost:8080/",
     "height": 194
    },
    "colab_type": "code",
    "id": "Xxj_y29_c8KQ",
    "outputId": "4ecacd7d-4110-4ade-b347-4c2ecf4714ba"
   },
   "outputs": [
    {
     "data": {
      "text/html": [
       "<div>\n",
       "<style scoped>\n",
       "    .dataframe tbody tr th:only-of-type {\n",
       "        vertical-align: middle;\n",
       "    }\n",
       "\n",
       "    .dataframe tbody tr th {\n",
       "        vertical-align: top;\n",
       "    }\n",
       "\n",
       "    .dataframe thead th {\n",
       "        text-align: right;\n",
       "    }\n",
       "</style>\n",
       "<table border=\"1\" class=\"dataframe\">\n",
       "  <thead>\n",
       "    <tr style=\"text-align: right;\">\n",
       "      <th></th>\n",
       "      <th>date_block_num</th>\n",
       "      <th>shop_id</th>\n",
       "      <th>item_id</th>\n",
       "      <th>item_cnt_month</th>\n",
       "    </tr>\n",
       "  </thead>\n",
       "  <tbody>\n",
       "    <tr>\n",
       "      <th>0</th>\n",
       "      <td>0</td>\n",
       "      <td>2</td>\n",
       "      <td>19</td>\n",
       "      <td>0.0</td>\n",
       "    </tr>\n",
       "    <tr>\n",
       "      <th>1</th>\n",
       "      <td>0</td>\n",
       "      <td>2</td>\n",
       "      <td>27</td>\n",
       "      <td>1.0</td>\n",
       "    </tr>\n",
       "    <tr>\n",
       "      <th>2</th>\n",
       "      <td>0</td>\n",
       "      <td>2</td>\n",
       "      <td>28</td>\n",
       "      <td>0.0</td>\n",
       "    </tr>\n",
       "    <tr>\n",
       "      <th>3</th>\n",
       "      <td>0</td>\n",
       "      <td>2</td>\n",
       "      <td>29</td>\n",
       "      <td>0.0</td>\n",
       "    </tr>\n",
       "    <tr>\n",
       "      <th>4</th>\n",
       "      <td>0</td>\n",
       "      <td>2</td>\n",
       "      <td>32</td>\n",
       "      <td>0.0</td>\n",
       "    </tr>\n",
       "  </tbody>\n",
       "</table>\n",
       "</div>"
      ],
      "text/plain": [
       "   date_block_num  shop_id  item_id  item_cnt_month\n",
       "0               0        2       19             0.0\n",
       "1               0        2       27             1.0\n",
       "2               0        2       28             0.0\n",
       "3               0        2       29             0.0\n",
       "4               0        2       32             0.0"
      ]
     },
     "execution_count": 377,
     "metadata": {
      "tags": []
     },
     "output_type": "execute_result"
    }
   ],
   "source": [
    "matrix.head()"
   ]
  },
  {
   "cell_type": "code",
   "execution_count": 378,
   "metadata": {
    "colab": {},
    "colab_type": "code",
    "id": "Db-kerKHdIcV"
   },
   "outputs": [],
   "source": [
    "# predict date should be the 34th month\n",
    "test['date_block_num'] = 34"
   ]
  },
  {
   "cell_type": "code",
   "execution_count": 379,
   "metadata": {
    "colab": {},
    "colab_type": "code",
    "id": "y5QZnIk1hvAH"
   },
   "outputs": [],
   "source": [
    "matrix = pd.concat([matrix, test], ignore_index=True, sort=False, keys=cols)\n",
    "matrix.fillna(0, inplace=True) # 34 month"
   ]
  },
  {
   "cell_type": "code",
   "execution_count": 380,
   "metadata": {
    "colab": {},
    "colab_type": "code",
    "id": "5pamuShCiSVG"
   },
   "outputs": [],
   "source": [
    "matrix = pd.merge(matrix, shops, on=['shop_id'], how='left')\n",
    "matrix = pd.merge(matrix, items, on=['item_id'], how='left')\n",
    "matrix = pd.merge(matrix, item_categories, on=['item_category_id'], how='left')"
   ]
  },
  {
   "cell_type": "code",
   "execution_count": 381,
   "metadata": {
    "colab": {},
    "colab_type": "code",
    "id": "lof2SDAMGE6Y"
   },
   "outputs": [],
   "source": [
    "matrix.drop(['item_name'], axis=1, inplace=True)\n",
    "matrix.drop(['ID'], axis=1, inplace=True)"
   ]
  },
  {
   "cell_type": "code",
   "execution_count": 382,
   "metadata": {
    "colab": {
     "base_uri": "https://localhost:8080/",
     "height": 194
    },
    "colab_type": "code",
    "id": "6Ql_--7Xeb4D",
    "outputId": "1a0e1d7f-2ed6-44af-faf1-5db647686ba1"
   },
   "outputs": [
    {
     "data": {
      "text/html": [
       "<div>\n",
       "<style scoped>\n",
       "    .dataframe tbody tr th:only-of-type {\n",
       "        vertical-align: middle;\n",
       "    }\n",
       "\n",
       "    .dataframe tbody tr th {\n",
       "        vertical-align: top;\n",
       "    }\n",
       "\n",
       "    .dataframe thead th {\n",
       "        text-align: right;\n",
       "    }\n",
       "</style>\n",
       "<table border=\"1\" class=\"dataframe\">\n",
       "  <thead>\n",
       "    <tr style=\"text-align: right;\">\n",
       "      <th></th>\n",
       "      <th>date_block_num</th>\n",
       "      <th>shop_id</th>\n",
       "      <th>item_id</th>\n",
       "      <th>item_cnt_month</th>\n",
       "      <th>shop_category</th>\n",
       "      <th>shop_city</th>\n",
       "      <th>item_category_id</th>\n",
       "      <th>item_category_type_code</th>\n",
       "      <th>item_category_sub_type_code</th>\n",
       "    </tr>\n",
       "  </thead>\n",
       "  <tbody>\n",
       "    <tr>\n",
       "      <th>0</th>\n",
       "      <td>0</td>\n",
       "      <td>2</td>\n",
       "      <td>19</td>\n",
       "      <td>0.0</td>\n",
       "      <td>9</td>\n",
       "      <td>1</td>\n",
       "      <td>40</td>\n",
       "      <td>13</td>\n",
       "      <td>20</td>\n",
       "    </tr>\n",
       "    <tr>\n",
       "      <th>1</th>\n",
       "      <td>0</td>\n",
       "      <td>2</td>\n",
       "      <td>27</td>\n",
       "      <td>1.0</td>\n",
       "      <td>9</td>\n",
       "      <td>1</td>\n",
       "      <td>19</td>\n",
       "      <td>10</td>\n",
       "      <td>44</td>\n",
       "    </tr>\n",
       "    <tr>\n",
       "      <th>2</th>\n",
       "      <td>0</td>\n",
       "      <td>2</td>\n",
       "      <td>28</td>\n",
       "      <td>0.0</td>\n",
       "      <td>9</td>\n",
       "      <td>1</td>\n",
       "      <td>30</td>\n",
       "      <td>16</td>\n",
       "      <td>55</td>\n",
       "    </tr>\n",
       "    <tr>\n",
       "      <th>3</th>\n",
       "      <td>0</td>\n",
       "      <td>2</td>\n",
       "      <td>29</td>\n",
       "      <td>0.0</td>\n",
       "      <td>9</td>\n",
       "      <td>1</td>\n",
       "      <td>23</td>\n",
       "      <td>10</td>\n",
       "      <td>61</td>\n",
       "    </tr>\n",
       "    <tr>\n",
       "      <th>4</th>\n",
       "      <td>0</td>\n",
       "      <td>2</td>\n",
       "      <td>32</td>\n",
       "      <td>0.0</td>\n",
       "      <td>9</td>\n",
       "      <td>1</td>\n",
       "      <td>40</td>\n",
       "      <td>13</td>\n",
       "      <td>20</td>\n",
       "    </tr>\n",
       "  </tbody>\n",
       "</table>\n",
       "</div>"
      ],
      "text/plain": [
       "   date_block_num  ...  item_category_sub_type_code\n",
       "0               0  ...                           20\n",
       "1               0  ...                           44\n",
       "2               0  ...                           55\n",
       "3               0  ...                           61\n",
       "4               0  ...                           20\n",
       "\n",
       "[5 rows x 9 columns]"
      ]
     },
     "execution_count": 382,
     "metadata": {
      "tags": []
     },
     "output_type": "execute_result"
    }
   ],
   "source": [
    "matrix.head()"
   ]
  },
  {
   "cell_type": "code",
   "execution_count": 383,
   "metadata": {
    "colab": {},
    "colab_type": "code",
    "id": "cwk-HLYlfwRy"
   },
   "outputs": [],
   "source": [
    "#prepare the model\n",
    "data = matrix\n",
    "X_train = data[data.date_block_num < 33].drop(['item_cnt_month'], axis=1)\n",
    "Y_train = data[data.date_block_num < 33]['item_cnt_month']\n",
    "X_valid = data[data.date_block_num == 33].drop(['item_cnt_month'], axis=1)\n",
    "Y_valid = data[data.date_block_num == 33]['item_cnt_month']\n",
    "X_test = data[data.date_block_num == 34].drop(['item_cnt_month'], axis=1)"
   ]
  },
  {
   "cell_type": "code",
   "execution_count": 38,
   "metadata": {
    "colab": {
     "base_uri": "https://localhost:8080/",
     "height": 1243
    },
    "colab_type": "code",
    "id": "jfXDDTfFf0jI",
    "outputId": "b04d9f51-ec62-4ca3-ee67-bbef9396e314"
   },
   "outputs": [
    {
     "name": "stdout",
     "output_type": "stream",
     "text": [
      "[23:07:25] WARNING: /workspace/src/objective/regression_obj.cu:152: reg:linear is now deprecated in favor of reg:squarederror.\n",
      "[0]\tvalidation_0-rmse:1.63887\tvalidation_1-rmse:1.22084\n",
      "Multiple eval metrics have been passed: 'validation_1-rmse' will be used for early stopping.\n",
      "\n",
      "Will train until validation_1-rmse hasn't improved in 1 rounds.\n",
      "[1]\tvalidation_0-rmse:1.6187\tvalidation_1-rmse:1.20904\n",
      "[2]\tvalidation_0-rmse:1.59478\tvalidation_1-rmse:1.19135\n",
      "[3]\tvalidation_0-rmse:1.57197\tvalidation_1-rmse:1.17862\n",
      "[4]\tvalidation_0-rmse:1.55073\tvalidation_1-rmse:1.16683\n",
      "[5]\tvalidation_0-rmse:1.52659\tvalidation_1-rmse:1.15394\n",
      "[6]\tvalidation_0-rmse:1.50818\tvalidation_1-rmse:1.14717\n",
      "[7]\tvalidation_0-rmse:1.49196\tvalidation_1-rmse:1.13847\n",
      "[8]\tvalidation_0-rmse:1.47927\tvalidation_1-rmse:1.13106\n",
      "[9]\tvalidation_0-rmse:1.47032\tvalidation_1-rmse:1.1255\n",
      "[10]\tvalidation_0-rmse:1.46451\tvalidation_1-rmse:1.12241\n",
      "[11]\tvalidation_0-rmse:1.45633\tvalidation_1-rmse:1.1175\n",
      "[12]\tvalidation_0-rmse:1.44745\tvalidation_1-rmse:1.1146\n",
      "[13]\tvalidation_0-rmse:1.44079\tvalidation_1-rmse:1.11198\n",
      "[14]\tvalidation_0-rmse:1.43487\tvalidation_1-rmse:1.10858\n",
      "[15]\tvalidation_0-rmse:1.42938\tvalidation_1-rmse:1.1059\n",
      "[16]\tvalidation_0-rmse:1.42366\tvalidation_1-rmse:1.10271\n",
      "[17]\tvalidation_0-rmse:1.41833\tvalidation_1-rmse:1.10069\n",
      "[18]\tvalidation_0-rmse:1.4142\tvalidation_1-rmse:1.09906\n",
      "[19]\tvalidation_0-rmse:1.40993\tvalidation_1-rmse:1.09737\n",
      "[20]\tvalidation_0-rmse:1.40317\tvalidation_1-rmse:1.09527\n",
      "[21]\tvalidation_0-rmse:1.399\tvalidation_1-rmse:1.0937\n",
      "[22]\tvalidation_0-rmse:1.39201\tvalidation_1-rmse:1.091\n",
      "[23]\tvalidation_0-rmse:1.38744\tvalidation_1-rmse:1.09029\n",
      "[24]\tvalidation_0-rmse:1.38448\tvalidation_1-rmse:1.08832\n",
      "[25]\tvalidation_0-rmse:1.3823\tvalidation_1-rmse:1.08735\n",
      "[26]\tvalidation_0-rmse:1.37944\tvalidation_1-rmse:1.08533\n",
      "[27]\tvalidation_0-rmse:1.37755\tvalidation_1-rmse:1.08446\n",
      "[28]\tvalidation_0-rmse:1.37346\tvalidation_1-rmse:1.0819\n",
      "[29]\tvalidation_0-rmse:1.37029\tvalidation_1-rmse:1.08108\n",
      "[30]\tvalidation_0-rmse:1.36791\tvalidation_1-rmse:1.07965\n",
      "[31]\tvalidation_0-rmse:1.36573\tvalidation_1-rmse:1.07827\n",
      "[32]\tvalidation_0-rmse:1.36244\tvalidation_1-rmse:1.07709\n",
      "[33]\tvalidation_0-rmse:1.36104\tvalidation_1-rmse:1.07659\n",
      "[34]\tvalidation_0-rmse:1.35659\tvalidation_1-rmse:1.07553\n",
      "[35]\tvalidation_0-rmse:1.35334\tvalidation_1-rmse:1.07427\n",
      "[36]\tvalidation_0-rmse:1.35195\tvalidation_1-rmse:1.07328\n",
      "[37]\tvalidation_0-rmse:1.35026\tvalidation_1-rmse:1.07288\n",
      "[38]\tvalidation_0-rmse:1.34789\tvalidation_1-rmse:1.07211\n",
      "[39]\tvalidation_0-rmse:1.34585\tvalidation_1-rmse:1.07084\n",
      "[40]\tvalidation_0-rmse:1.34514\tvalidation_1-rmse:1.07006\n",
      "[41]\tvalidation_0-rmse:1.34353\tvalidation_1-rmse:1.06913\n",
      "[42]\tvalidation_0-rmse:1.34287\tvalidation_1-rmse:1.06868\n",
      "[43]\tvalidation_0-rmse:1.33875\tvalidation_1-rmse:1.06853\n",
      "[44]\tvalidation_0-rmse:1.33678\tvalidation_1-rmse:1.06794\n",
      "[45]\tvalidation_0-rmse:1.33472\tvalidation_1-rmse:1.06641\n",
      "[46]\tvalidation_0-rmse:1.33206\tvalidation_1-rmse:1.06549\n",
      "[47]\tvalidation_0-rmse:1.33109\tvalidation_1-rmse:1.06523\n",
      "[48]\tvalidation_0-rmse:1.33028\tvalidation_1-rmse:1.0651\n",
      "[49]\tvalidation_0-rmse:1.32709\tvalidation_1-rmse:1.06475\n",
      "[50]\tvalidation_0-rmse:1.32593\tvalidation_1-rmse:1.06442\n",
      "[51]\tvalidation_0-rmse:1.32427\tvalidation_1-rmse:1.06328\n",
      "[52]\tvalidation_0-rmse:1.32281\tvalidation_1-rmse:1.06278\n",
      "[53]\tvalidation_0-rmse:1.32207\tvalidation_1-rmse:1.0621\n",
      "[54]\tvalidation_0-rmse:1.3207\tvalidation_1-rmse:1.06205\n",
      "[55]\tvalidation_0-rmse:1.31976\tvalidation_1-rmse:1.06155\n",
      "[56]\tvalidation_0-rmse:1.31859\tvalidation_1-rmse:1.06079\n",
      "[57]\tvalidation_0-rmse:1.31692\tvalidation_1-rmse:1.06021\n",
      "[58]\tvalidation_0-rmse:1.31495\tvalidation_1-rmse:1.06028\n",
      "Stopping. Best iteration:\n",
      "[57]\tvalidation_0-rmse:1.31692\tvalidation_1-rmse:1.06021\n",
      "\n"
     ]
    },
    {
     "data": {
      "text/plain": [
       "XGBRegressor(base_score=0.5, booster='gbtree', colsample_bylevel=1,\n",
       "             colsample_bynode=1, colsample_bytree=0.8, eta=0.3, gamma=0,\n",
       "             importance_type='gain', learning_rate=0.1, max_delta_step=0,\n",
       "             max_depth=8, min_child_weight=300, missing=None, n_estimators=1000,\n",
       "             n_jobs=1, nthread=None, objective='reg:linear', random_state=0,\n",
       "             reg_alpha=0, reg_lambda=1, scale_pos_weight=1, seed=42,\n",
       "             silent=None, subsample=0.8, verbosity=1)"
      ]
     },
     "execution_count": 38,
     "metadata": {
      "tags": []
     },
     "output_type": "execute_result"
    }
   ],
   "source": [
    "model = XGBRegressor(\n",
    "    max_depth=8,\n",
    "    n_estimators=1000,\n",
    "    min_child_weight=300, \n",
    "    colsample_bytree=0.8, \n",
    "    subsample=0.8, \n",
    "    eta=0.3,    \n",
    "    seed=42)\n",
    "\n",
    "model.fit(\n",
    "    X_train, \n",
    "    Y_train, \n",
    "    eval_metric=\"rmse\", \n",
    "    eval_set=[(X_train, Y_train), (X_valid, Y_valid)], \n",
    "    verbose=True, \n",
    "    early_stopping_rounds = 1)"
   ]
  },
  {
   "cell_type": "code",
   "execution_count": 39,
   "metadata": {
    "colab": {},
    "colab_type": "code",
    "id": "9Ozc5NExj5fo"
   },
   "outputs": [],
   "source": [
    "Y_pred = model.predict(X_valid).clip(0, 20)\n",
    "Y_test = model.predict(X_test).clip(0, 20)\n",
    "\n",
    "submission = pd.DataFrame({\n",
    "    \"ID\": test.index, \n",
    "    \"item_cnt_month\": Y_test\n",
    "})\n",
    "submission.to_csv('submission.csv', index=False)"
   ]
  },
  {
   "cell_type": "markdown",
   "metadata": {
    "colab_type": "text",
    "id": "tijovhBvU8ug"
   },
   "source": [
    "I use the XGBRegressor model to do the prediction, and has rmse=1.06."
   ]
  },
  {
   "cell_type": "markdown",
   "metadata": {
    "colab_type": "text",
    "id": "8VaELR3WU8ug"
   },
   "source": [
    "## Part 8 - Final Result"
   ]
  },
  {
   "cell_type": "markdown",
   "metadata": {
    "colab_type": "text",
    "id": "3mzlC-EhU8uh"
   },
   "source": [
    "Report the rank, score, number of entries, for your highest rank. Include a snapshot of your best score on the leaderboard as confirmation. Be sure to provide a link to your Kaggle profile. Make sure to include a screenshot of your ranking. Make sure your profile includes your face and affiliation with SBU."
   ]
  },
  {
   "cell_type": "markdown",
   "metadata": {
    "colab_type": "text",
    "id": "L88pHYuaU8uh"
   },
   "source": [
    "Kaggle Link: https://www.kaggle.com/haruka03"
   ]
  },
  {
   "cell_type": "markdown",
   "metadata": {
    "colab_type": "text",
    "id": "tGbin5f4U8uh"
   },
   "source": [
    "Highest Rank: 4977"
   ]
  },
  {
   "cell_type": "markdown",
   "metadata": {
    "colab_type": "text",
    "id": "puQe8LWtU8ui"
   },
   "source": [
    "Score: 1.09659"
   ]
  },
  {
   "cell_type": "markdown",
   "metadata": {
    "colab_type": "text",
    "id": "ptMAtgBGU8ui"
   },
   "source": [
    "Number of entries: 1"
   ]
  },
  {
   "cell_type": "markdown",
   "metadata": {
    "colab_type": "text",
    "id": "owXnn60BU8uj"
   },
   "source": [
    "![image.png](data:image/png;base64,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)"
   ]
  },
  {
   "cell_type": "markdown",
   "metadata": {
    "colab_type": "text",
    "id": "KfjxMmc2aG0p"
   },
   "source": [
    "![image.png](data:image/png;base64,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)"
   ]
  }
 ],
 "metadata": {
  "colab": {
   "collapsed_sections": [],
   "name": "2.ipynb",
   "provenance": []
  },
  "kernelspec": {
   "display_name": "Python 3",
   "language": "python",
   "name": "python3"
  },
  "language_info": {
   "codemirror_mode": {
    "name": "ipython",
    "version": 3
   },
   "file_extension": ".py",
   "mimetype": "text/x-python",
   "name": "python",
   "nbconvert_exporter": "python",
   "pygments_lexer": "ipython3",
   "version": "3.7.4"
  }
 },
 "nbformat": 4,
 "nbformat_minor": 1
}
